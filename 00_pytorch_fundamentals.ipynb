{
  "cells": [
    {
      "cell_type": "markdown",
      "metadata": {
        "id": "-4qCYpLzxLMn"
      },
      "source": [
        "pytorch fundamentals\n",
        "resource: https://www.learnpytorch.io/00_pytorch_fundamentals/"
      ]
    },
    {
      "cell_type": "code",
      "execution_count": null,
      "metadata": {
        "colab": {
          "base_uri": "https://localhost:8080/"
        },
        "id": "BOJhB6LDwXXt",
        "outputId": "06715927-812a-41c3-92d0-82f939c05784"
      },
      "outputs": [
        {
          "output_type": "stream",
          "name": "stdout",
          "text": [
            "/bin/bash: line 1: nvidia-smi: command not found\n"
          ]
        }
      ],
      "source": [
        "!nvidia-smi"
      ]
    },
    {
      "cell_type": "code",
      "execution_count": null,
      "metadata": {
        "id": "aF8-wp5hwsif"
      },
      "outputs": [],
      "source": [
        "import torch\n",
        "import pandas as pd\n",
        "import numpy as np\n",
        "import matplotlib.pyplot as plt"
      ]
    },
    {
      "cell_type": "code",
      "execution_count": null,
      "metadata": {
        "id": "96GKOy5QdztX"
      },
      "outputs": [],
      "source": []
    },
    {
      "cell_type": "code",
      "execution_count": null,
      "metadata": {
        "colab": {
          "base_uri": "https://localhost:8080/"
        },
        "id": "ey0XGhwaxgsL",
        "outputId": "b11c4d6b-b320-4067-98d2-263eb592043c"
      },
      "outputs": [
        {
          "output_type": "stream",
          "name": "stdout",
          "text": [
            "2.5.1+cu124\n"
          ]
        }
      ],
      "source": [
        "print(torch.__version__)"
      ]
    },
    {
      "cell_type": "markdown",
      "metadata": {
        "id": "-Ue39cEfzg7Z"
      },
      "source": [
        "tensors- main building block- represent N-dimensional data\n",
        "Pytorch tensors are created using torch.tensor()"
      ]
    },
    {
      "cell_type": "code",
      "execution_count": null,
      "metadata": {
        "colab": {
          "base_uri": "https://localhost:8080/"
        },
        "id": "Whl8QIU1yu9m",
        "outputId": "4bbf6b30-c0c5-4e43-9247-6a83c430b782"
      },
      "outputs": [
        {
          "output_type": "execute_result",
          "data": {
            "text/plain": [
              "tensor(2)"
            ]
          },
          "metadata": {},
          "execution_count": 4
        }
      ],
      "source": [
        "#scalar\n",
        "scalar= torch.tensor(2)\n",
        "scalar"
      ]
    },
    {
      "cell_type": "code",
      "execution_count": null,
      "metadata": {
        "colab": {
          "base_uri": "https://localhost:8080/"
        },
        "id": "Tf9n0py8zbTu",
        "outputId": "750c5142-720c-4a53-fa52-e750f1531832"
      },
      "outputs": [
        {
          "output_type": "execute_result",
          "data": {
            "text/plain": [
              "0"
            ]
          },
          "metadata": {},
          "execution_count": 5
        }
      ],
      "source": [
        "#dimensions of scalar\n",
        "scalar.ndim"
      ]
    },
    {
      "cell_type": "code",
      "execution_count": null,
      "metadata": {
        "colab": {
          "base_uri": "https://localhost:8080/"
        },
        "id": "jU-5pT__0L4Q",
        "outputId": "a9038040-2e61-475d-891d-974b4ad23399"
      },
      "outputs": [
        {
          "output_type": "execute_result",
          "data": {
            "text/plain": [
              "2"
            ]
          },
          "metadata": {},
          "execution_count": 6
        }
      ],
      "source": [
        "#get scalar as python int\n",
        "scalar.item()"
      ]
    },
    {
      "cell_type": "code",
      "execution_count": null,
      "metadata": {
        "colab": {
          "base_uri": "https://localhost:8080/"
        },
        "id": "cOBOxXQr0PNX",
        "outputId": "e53e9116-ae30-46dd-d56d-6d551765cfc8"
      },
      "outputs": [
        {
          "output_type": "execute_result",
          "data": {
            "text/plain": [
              "tensor([2, 2])"
            ]
          },
          "metadata": {},
          "execution_count": 7
        }
      ],
      "source": [
        "#vector\n",
        "vector= torch.tensor([2,2])\n",
        "vector"
      ]
    },
    {
      "cell_type": "code",
      "execution_count": null,
      "metadata": {
        "colab": {
          "base_uri": "https://localhost:8080/"
        },
        "id": "3NjHUOYE0s9p",
        "outputId": "b8c98d2c-55f7-46e1-cdab-4df4282755e7"
      },
      "outputs": [
        {
          "output_type": "execute_result",
          "data": {
            "text/plain": [
              "1"
            ]
          },
          "metadata": {},
          "execution_count": 8
        }
      ],
      "source": [
        "#dimension- shortcut(remember number of pairs of brackets)\n",
        "vector.ndim"
      ]
    },
    {
      "cell_type": "code",
      "execution_count": null,
      "metadata": {
        "colab": {
          "base_uri": "https://localhost:8080/"
        },
        "id": "1k8_MCT-048F",
        "outputId": "f6148d78-1e3a-4d36-a477-da8ca4cb8e0c"
      },
      "outputs": [
        {
          "output_type": "execute_result",
          "data": {
            "text/plain": [
              "torch.Size([2])"
            ]
          },
          "metadata": {},
          "execution_count": 9
        }
      ],
      "source": [
        "vector.shape"
      ]
    },
    {
      "cell_type": "code",
      "execution_count": null,
      "metadata": {
        "colab": {
          "base_uri": "https://localhost:8080/"
        },
        "id": "QcMKOdS01GVL",
        "outputId": "6d4ca5a3-118f-4561-8683-ded85c6a670f"
      },
      "outputs": [
        {
          "output_type": "execute_result",
          "data": {
            "text/plain": [
              "tensor([[ 7,  8],\n",
              "        [ 9, 10]])"
            ]
          },
          "metadata": {},
          "execution_count": 10
        }
      ],
      "source": [
        "#matrix\n",
        "MATRIX= torch.tensor([[7,8],\n",
        "                      [9,10]])\n",
        "MATRIX"
      ]
    },
    {
      "cell_type": "code",
      "execution_count": null,
      "metadata": {
        "colab": {
          "base_uri": "https://localhost:8080/"
        },
        "id": "sj4jcstU1w8e",
        "outputId": "61cd94b8-949a-4b30-eed1-323ab2b8e4e4"
      },
      "outputs": [
        {
          "output_type": "execute_result",
          "data": {
            "text/plain": [
              "2"
            ]
          },
          "metadata": {},
          "execution_count": 11
        }
      ],
      "source": [
        "MATRIX.ndim"
      ]
    },
    {
      "cell_type": "code",
      "execution_count": null,
      "metadata": {
        "colab": {
          "base_uri": "https://localhost:8080/"
        },
        "id": "f1qNL17x14sZ",
        "outputId": "486d0f26-9e6b-4997-caf8-d6db315ddee1"
      },
      "outputs": [
        {
          "output_type": "execute_result",
          "data": {
            "text/plain": [
              "tensor([ 9, 10])"
            ]
          },
          "metadata": {},
          "execution_count": 12
        }
      ],
      "source": [
        "MATRIX[1]"
      ]
    },
    {
      "cell_type": "code",
      "execution_count": null,
      "metadata": {
        "colab": {
          "base_uri": "https://localhost:8080/"
        },
        "id": "1uiRalaQ1_LZ",
        "outputId": "21caee60-f62c-4987-9980-febdcaa951d1"
      },
      "outputs": [
        {
          "output_type": "execute_result",
          "data": {
            "text/plain": [
              "torch.Size([2, 2])"
            ]
          },
          "metadata": {},
          "execution_count": 13
        }
      ],
      "source": [
        "MATRIX.shape"
      ]
    },
    {
      "cell_type": "code",
      "execution_count": null,
      "metadata": {
        "colab": {
          "base_uri": "https://localhost:8080/"
        },
        "id": "tTjxjxjP25GA",
        "outputId": "130a3fd2-5aae-4151-8520-ba4d02154c06"
      },
      "outputs": [
        {
          "output_type": "execute_result",
          "data": {
            "text/plain": [
              "tensor([[[1, 2, 3],\n",
              "         [2, 5, 4],\n",
              "         [3, 6, 9]]])"
            ]
          },
          "metadata": {},
          "execution_count": 14
        }
      ],
      "source": [
        "#TENSOR\n",
        "TENSOR= torch.tensor([[[1,2,3],\n",
        "                       [2,5,4],\n",
        "                       [3,6,9]]])\n",
        "TENSOR"
      ]
    },
    {
      "cell_type": "code",
      "execution_count": null,
      "metadata": {
        "colab": {
          "base_uri": "https://localhost:8080/"
        },
        "id": "71YeZqW63Q2n",
        "outputId": "e875aed0-7d46-43c4-8166-08bee2f2d877"
      },
      "outputs": [
        {
          "output_type": "execute_result",
          "data": {
            "text/plain": [
              "3"
            ]
          },
          "metadata": {},
          "execution_count": 15
        }
      ],
      "source": [
        "TENSOR.ndim"
      ]
    },
    {
      "cell_type": "code",
      "execution_count": null,
      "metadata": {
        "colab": {
          "base_uri": "https://localhost:8080/"
        },
        "id": "EX-1HkMY3YM2",
        "outputId": "cf510227-c9eb-4e01-e34f-9bd1406e5532"
      },
      "outputs": [
        {
          "output_type": "execute_result",
          "data": {
            "text/plain": [
              "torch.Size([1, 3, 3])"
            ]
          },
          "metadata": {},
          "execution_count": 16
        }
      ],
      "source": [
        "TENSOR.shape"
      ]
    },
    {
      "cell_type": "code",
      "execution_count": null,
      "metadata": {
        "colab": {
          "base_uri": "https://localhost:8080/"
        },
        "id": "kgvvQk743edM",
        "outputId": "4c088aa4-a7ba-4918-d41e-f13127f6998d"
      },
      "outputs": [
        {
          "output_type": "execute_result",
          "data": {
            "text/plain": [
              "tensor([[[[1, 2, 3],\n",
              "          [4, 5, 6],\n",
              "          [5, 6, 7]]]])"
            ]
          },
          "metadata": {},
          "execution_count": 17
        }
      ],
      "source": [
        "Tensor_prac=torch.tensor([[[[1,2,3],\n",
        "                            [4,5,6],\n",
        "                             [5,6,7]]]])\n",
        "Tensor_prac"
      ]
    },
    {
      "cell_type": "code",
      "execution_count": null,
      "metadata": {
        "colab": {
          "base_uri": "https://localhost:8080/"
        },
        "id": "BoQ3_jaa4KnN",
        "outputId": "d25364b6-1a0d-41c9-d214-4f1a54d1423d"
      },
      "outputs": [
        {
          "output_type": "execute_result",
          "data": {
            "text/plain": [
              "4"
            ]
          },
          "metadata": {},
          "execution_count": 18
        }
      ],
      "source": [
        "Tensor_prac.ndim"
      ]
    },
    {
      "cell_type": "code",
      "execution_count": null,
      "metadata": {
        "colab": {
          "base_uri": "https://localhost:8080/"
        },
        "id": "XSQAcjMR4PJa",
        "outputId": "4b09c1c3-e6f3-46e9-cd83-267725d95aaa"
      },
      "outputs": [
        {
          "output_type": "execute_result",
          "data": {
            "text/plain": [
              "torch.Size([1, 1, 3, 3])"
            ]
          },
          "metadata": {},
          "execution_count": 19
        }
      ],
      "source": [
        "Tensor_prac.shape"
      ]
    },
    {
      "cell_type": "code",
      "execution_count": null,
      "metadata": {
        "colab": {
          "base_uri": "https://localhost:8080/"
        },
        "id": "extsgx_z4c15",
        "outputId": "842030d0-f7de-40d8-f2dd-09cabf6baaee"
      },
      "outputs": [
        {
          "output_type": "execute_result",
          "data": {
            "text/plain": [
              "torch.Size([])"
            ]
          },
          "metadata": {},
          "execution_count": 20
        }
      ],
      "source": [
        "scalar.shape"
      ]
    },
    {
      "cell_type": "markdown",
      "metadata": {
        "id": "usA8TbdZ7GHa"
      },
      "source": [
        "### Random tensors\n",
        "Random tensors are important because the way many neural networks learn is that they start with random numbers and then adjust those random numbers to better represent the data\n",
        "\n",
        "`Start with random numbers -> look at data -> update random numbers -> look at data -> update random numbers"
      ]
    },
    {
      "cell_type": "code",
      "execution_count": null,
      "metadata": {
        "colab": {
          "base_uri": "https://localhost:8080/"
        },
        "id": "GmgKza-66vxE",
        "outputId": "a559d45c-1189-499c-c019-caf0d7f3932c"
      },
      "outputs": [
        {
          "output_type": "execute_result",
          "data": {
            "text/plain": [
              "tensor([[0.8602, 0.6322, 0.7846, 0.2617],\n",
              "        [0.9706, 0.4726, 0.7809, 0.2112],\n",
              "        [0.9366, 0.2068, 0.2465, 0.9018]])"
            ]
          },
          "metadata": {},
          "execution_count": 21
        }
      ],
      "source": [
        "## Random  tensors - create a random tensor of size (3,4)\n",
        "random_tensor= torch.rand(3,4)\n",
        "random_tensor"
      ]
    },
    {
      "cell_type": "code",
      "execution_count": null,
      "metadata": {
        "colab": {
          "base_uri": "https://localhost:8080/"
        },
        "id": "jX1bm6MN8CG0",
        "outputId": "cf6df9ff-4074-4921-a041-b9ad3d6ab9e2"
      },
      "outputs": [
        {
          "output_type": "execute_result",
          "data": {
            "text/plain": [
              "2"
            ]
          },
          "metadata": {},
          "execution_count": 22
        }
      ],
      "source": [
        "random_tensor.ndim"
      ]
    },
    {
      "cell_type": "code",
      "execution_count": null,
      "metadata": {
        "colab": {
          "base_uri": "https://localhost:8080/"
        },
        "id": "31PpWCtZUUJa",
        "outputId": "e067a211-959d-4628-8314-3658aecb0652"
      },
      "outputs": [
        {
          "output_type": "execute_result",
          "data": {
            "text/plain": [
              "tensor([[0.7908, 0.9678, 0.3927],\n",
              "        [0.6306, 0.2437, 0.8623]])"
            ]
          },
          "metadata": {},
          "execution_count": 23
        }
      ],
      "source": [
        "random_tensor_2= torch.rand(2,3)\n",
        "random_tensor_2"
      ]
    },
    {
      "cell_type": "code",
      "execution_count": null,
      "metadata": {
        "colab": {
          "base_uri": "https://localhost:8080/"
        },
        "id": "9wry0cuFUe3i",
        "outputId": "9cd6bdf5-18cd-44fa-d683-569490ccd58f"
      },
      "outputs": [
        {
          "output_type": "execute_result",
          "data": {
            "text/plain": [
              "2"
            ]
          },
          "metadata": {},
          "execution_count": 24
        }
      ],
      "source": [
        "random_tensor_2.ndim"
      ]
    },
    {
      "cell_type": "code",
      "execution_count": null,
      "metadata": {
        "colab": {
          "base_uri": "https://localhost:8080/"
        },
        "id": "14vsYrvQ8siE",
        "outputId": "6124f597-3a19-4f30-8bda-022440748e30"
      },
      "outputs": [
        {
          "output_type": "execute_result",
          "data": {
            "text/plain": [
              "3"
            ]
          },
          "metadata": {},
          "execution_count": 25
        }
      ],
      "source": [
        "# create a random tensor with similar shape to an image tensor\n",
        "random_image_size_tensor=torch.rand(size=(224,224,3)) # height, width, color channels(RGB)\n",
        "random_image_size_tensor.ndim"
      ]
    },
    {
      "cell_type": "code",
      "execution_count": null,
      "metadata": {
        "colab": {
          "base_uri": "https://localhost:8080/"
        },
        "id": "6K7cAF2RVMYX",
        "outputId": "32432555-f5c9-4eaf-d9b2-648b03a67b3f"
      },
      "outputs": [
        {
          "output_type": "execute_result",
          "data": {
            "text/plain": [
              "tensor([[[0.4172, 0.4562, 0.7333],\n",
              "         [0.1740, 0.1592, 0.4786],\n",
              "         [0.1865, 0.0666, 0.7075],\n",
              "         ...,\n",
              "         [0.1042, 0.7565, 0.6489],\n",
              "         [0.2640, 0.3013, 0.8477],\n",
              "         [0.2380, 0.5476, 0.1555]],\n",
              "\n",
              "        [[0.8955, 0.4876, 0.5577],\n",
              "         [0.4914, 0.5604, 0.2524],\n",
              "         [0.9871, 0.4883, 0.9760],\n",
              "         ...,\n",
              "         [0.5635, 0.5588, 0.4444],\n",
              "         [0.2724, 0.7480, 0.4232],\n",
              "         [0.9190, 0.5116, 0.1560]],\n",
              "\n",
              "        [[0.6272, 0.7324, 0.9202],\n",
              "         [0.5591, 0.6860, 0.5825],\n",
              "         [0.9889, 0.2348, 0.5687],\n",
              "         ...,\n",
              "         [0.4805, 0.3487, 0.3047],\n",
              "         [0.0824, 0.6130, 0.7000],\n",
              "         [0.7544, 0.5959, 0.5311]],\n",
              "\n",
              "        ...,\n",
              "\n",
              "        [[0.1829, 0.6735, 0.6380],\n",
              "         [0.7488, 0.1586, 0.6024],\n",
              "         [0.4917, 0.4440, 0.2402],\n",
              "         ...,\n",
              "         [0.3440, 0.1309, 0.2249],\n",
              "         [0.5331, 0.1515, 0.0471],\n",
              "         [0.6563, 0.5209, 0.0600]],\n",
              "\n",
              "        [[0.7412, 0.2156, 0.0174],\n",
              "         [0.3763, 0.3121, 0.9444],\n",
              "         [0.0068, 0.4375, 0.5763],\n",
              "         ...,\n",
              "         [0.2816, 0.6307, 0.4069],\n",
              "         [0.8893, 0.9868, 0.6249],\n",
              "         [0.2636, 0.0895, 0.3276]],\n",
              "\n",
              "        [[0.7714, 0.4707, 0.7290],\n",
              "         [0.1186, 0.3460, 0.2632],\n",
              "         [0.4989, 0.6977, 0.1737],\n",
              "         ...,\n",
              "         [0.6226, 0.3196, 0.4728],\n",
              "         [0.9812, 0.0973, 0.7153],\n",
              "         [0.0214, 0.5405, 0.8187]]])"
            ]
          },
          "metadata": {},
          "execution_count": 26
        }
      ],
      "source": [
        "random_image_size_tensor"
      ]
    },
    {
      "cell_type": "code",
      "execution_count": null,
      "metadata": {
        "colab": {
          "base_uri": "https://localhost:8080/"
        },
        "id": "85xsdks3MLLX",
        "outputId": "03e58cf0-fba7-46c9-cb42-6caab4d461d1"
      },
      "outputs": [
        {
          "output_type": "execute_result",
          "data": {
            "text/plain": [
              "torch.Size([224, 224, 3])"
            ]
          },
          "metadata": {},
          "execution_count": 27
        }
      ],
      "source": [
        "random_image_size_tensor.shape"
      ]
    },
    {
      "cell_type": "markdown",
      "metadata": {
        "id": "oZNJX64tOagf"
      },
      "source": [
        "### zeros and ones"
      ]
    },
    {
      "cell_type": "code",
      "execution_count": null,
      "metadata": {
        "id": "NykPl9fUMN3v"
      },
      "outputs": [],
      "source": [
        "### zeros and ones\n",
        "zero=torch.zeros(2,3)"
      ]
    },
    {
      "cell_type": "code",
      "execution_count": null,
      "metadata": {
        "colab": {
          "base_uri": "https://localhost:8080/"
        },
        "id": "YUjd0AcROjC8",
        "outputId": "a888106b-6d79-4c21-e7b1-b2d0696b1398"
      },
      "outputs": [
        {
          "output_type": "execute_result",
          "data": {
            "text/plain": [
              "tensor([[0., 0., 0.],\n",
              "        [0., 0., 0.]])"
            ]
          },
          "metadata": {},
          "execution_count": 29
        }
      ],
      "source": [
        "zero"
      ]
    },
    {
      "cell_type": "code",
      "execution_count": null,
      "metadata": {
        "id": "OMvu8wgNOjwx"
      },
      "outputs": [],
      "source": [
        "ones= torch.ones(3,4)"
      ]
    },
    {
      "cell_type": "code",
      "execution_count": null,
      "metadata": {
        "colab": {
          "base_uri": "https://localhost:8080/"
        },
        "id": "c3rVRIuyOwl3",
        "outputId": "c9b88ccc-6b6e-4314-b220-4a1b8b9a987e"
      },
      "outputs": [
        {
          "output_type": "execute_result",
          "data": {
            "text/plain": [
              "tensor([[1., 1., 1., 1.],\n",
              "        [1., 1., 1., 1.],\n",
              "        [1., 1., 1., 1.]])"
            ]
          },
          "metadata": {},
          "execution_count": 31
        }
      ],
      "source": [
        "ones"
      ]
    },
    {
      "cell_type": "code",
      "execution_count": null,
      "metadata": {
        "colab": {
          "base_uri": "https://localhost:8080/"
        },
        "id": "P4dHpPTCOzJQ",
        "outputId": "22365d03-e1be-4336-b25e-4efdec996a10"
      },
      "outputs": [
        {
          "output_type": "execute_result",
          "data": {
            "text/plain": [
              "torch.float32"
            ]
          },
          "metadata": {},
          "execution_count": 32
        }
      ],
      "source": [
        "ones.dtype"
      ]
    },
    {
      "cell_type": "code",
      "execution_count": null,
      "metadata": {
        "id": "j8DAzi4Qf6H8"
      },
      "outputs": [],
      "source": [
        "#dtype- defines the data type"
      ]
    },
    {
      "cell_type": "code",
      "execution_count": null,
      "metadata": {
        "colab": {
          "base_uri": "https://localhost:8080/"
        },
        "id": "jCi3MK2RO0q3",
        "outputId": "d99f8436-fcc8-4798-b460-365e1ac64757"
      },
      "outputs": [
        {
          "output_type": "execute_result",
          "data": {
            "text/plain": [
              "torch.float32"
            ]
          },
          "metadata": {},
          "execution_count": 34
        }
      ],
      "source": [
        "random_tensor.dtype"
      ]
    },
    {
      "cell_type": "markdown",
      "metadata": {
        "id": "Y-XBiw76QTgT"
      },
      "source": [
        "### creating a range of tensors and tensors-like"
      ]
    },
    {
      "cell_type": "code",
      "execution_count": null,
      "metadata": {
        "colab": {
          "base_uri": "https://localhost:8080/"
        },
        "id": "CCTPXRlMO4Nd",
        "outputId": "87acc03f-67f0-437a-eadd-c68da414b7af"
      },
      "outputs": [
        {
          "output_type": "stream",
          "name": "stderr",
          "text": [
            "<ipython-input-35-b274777fc793>:2: UserWarning: torch.range is deprecated and will be removed in a future release because its behavior is inconsistent with Python's range builtin. Instead, use torch.arange, which produces values in [start, end).\n",
            "  torch.range(1,5)\n"
          ]
        },
        {
          "output_type": "execute_result",
          "data": {
            "text/plain": [
              "tensor([1., 2., 3., 4., 5.])"
            ]
          },
          "metadata": {},
          "execution_count": 35
        }
      ],
      "source": [
        " # use torch.arange()\n",
        "torch.range(1,5)"
      ]
    },
    {
      "cell_type": "code",
      "execution_count": null,
      "metadata": {
        "colab": {
          "base_uri": "https://localhost:8080/"
        },
        "id": "PHM_cq2bQlxG",
        "outputId": "098332ef-888c-4f6a-cf77-ca5380447df9"
      },
      "outputs": [
        {
          "output_type": "execute_result",
          "data": {
            "text/plain": [
              "tensor([1, 2, 3, 4, 5, 6, 7, 8, 9])"
            ]
          },
          "metadata": {},
          "execution_count": 36
        }
      ],
      "source": [
        "torch.arange(1,10)"
      ]
    },
    {
      "cell_type": "code",
      "execution_count": null,
      "metadata": {
        "colab": {
          "base_uri": "https://localhost:8080/"
        },
        "id": "YISv-KiiQxi2",
        "outputId": "1471961c-03b5-4ae8-8dc3-88a0a2876606"
      },
      "outputs": [
        {
          "output_type": "execute_result",
          "data": {
            "text/plain": [
              "tensor([ 1,  3,  5,  7,  9, 11, 13, 15, 17, 19])"
            ]
          },
          "metadata": {},
          "execution_count": 37
        }
      ],
      "source": [
        "torch.arange(1,20,2)"
      ]
    },
    {
      "cell_type": "code",
      "execution_count": null,
      "metadata": {
        "id": "z3d7VxoUQ4kx"
      },
      "outputs": [],
      "source": [
        "num=torch.arange(start=10,end=100,step=10)"
      ]
    },
    {
      "cell_type": "code",
      "execution_count": null,
      "metadata": {
        "colab": {
          "base_uri": "https://localhost:8080/"
        },
        "id": "QxvKB9oPQ-A3",
        "outputId": "602fc247-2012-4114-a4c2-dabeafdcdea4"
      },
      "outputs": [
        {
          "output_type": "execute_result",
          "data": {
            "text/plain": [
              "1"
            ]
          },
          "metadata": {},
          "execution_count": 39
        }
      ],
      "source": [
        " # creating tensors like-  torch.zeros_like(input) creates a tensor of the same input dimension with all elements as 0\n",
        "num.ndim\n"
      ]
    },
    {
      "cell_type": "code",
      "execution_count": null,
      "metadata": {
        "colab": {
          "base_uri": "https://localhost:8080/"
        },
        "id": "6i7cqI8aRNSP",
        "outputId": "7d67f1be-6e15-4522-9359-895cf178e3cd"
      },
      "outputs": [
        {
          "output_type": "execute_result",
          "data": {
            "text/plain": [
              "tensor([0, 0, 0, 0, 0, 0, 0, 0, 0])"
            ]
          },
          "metadata": {},
          "execution_count": 40
        }
      ],
      "source": [
        "num_copy=torch.zeros_like(num)\n",
        "num_copy"
      ]
    },
    {
      "cell_type": "markdown",
      "metadata": {
        "id": "gL8rlT_b78gw"
      },
      "source": [
        "### tensor datatypes"
      ]
    },
    {
      "cell_type": "code",
      "execution_count": null,
      "metadata": {
        "colab": {
          "base_uri": "https://localhost:8080/"
        },
        "id": "JXBCv2a_SF4B",
        "outputId": "d1af44dd-b07a-4fac-db32-4cc704905595"
      },
      "outputs": [
        {
          "output_type": "execute_result",
          "data": {
            "text/plain": [
              "tensor([3., 6., 9.])"
            ]
          },
          "metadata": {},
          "execution_count": 41
        }
      ],
      "source": [
        "# float 32\n",
        "float_32_tensor=torch.tensor([3.0,6.0,9.0],\n",
        "                             dtype=None, # data type of tensor\n",
        "                             device=\"cpu\", #incase of gpu - \"cuda\"\n",
        "                             requires_grad=False) # if we want pytorch to track gradients during calculations with this tensors\n",
        "float_32_tensor"
      ]
    },
    {
      "cell_type": "code",
      "execution_count": null,
      "metadata": {
        "colab": {
          "base_uri": "https://localhost:8080/"
        },
        "id": "Z1IIg5pv8Iko",
        "outputId": "c0678076-59f8-43c3-ee12-f8a71cff394f"
      },
      "outputs": [
        {
          "output_type": "execute_result",
          "data": {
            "text/plain": [
              "torch.float32"
            ]
          },
          "metadata": {},
          "execution_count": 42
        }
      ],
      "source": [
        "float_32_tensor.dtype"
      ]
    },
    {
      "cell_type": "markdown",
      "metadata": {
        "id": "3nbRaOt79hHt"
      },
      "source": [
        "single precision is float32, half precision is float16 and they represent how much detail a single number is stored in memory.\n",
        "\n",
        "**tensor datatypes is one of the 3 big errors we will run in pytorch**\n",
        "1. tensors not right datatype\n",
        "2. tensors not right shape\n",
        "3. tensors nor right device"
      ]
    },
    {
      "cell_type": "code",
      "execution_count": null,
      "metadata": {
        "colab": {
          "base_uri": "https://localhost:8080/"
        },
        "id": "B4j8EwUU8KoI",
        "outputId": "b9de5940-c81e-43b6-c823-4089a85c2f0e"
      },
      "outputs": [
        {
          "output_type": "execute_result",
          "data": {
            "text/plain": [
              "tensor([3., 6., 9.], dtype=torch.float16)"
            ]
          },
          "metadata": {},
          "execution_count": 43
        }
      ],
      "source": [
        "float_16_tensor= float_32_tensor.type(torch.float16)\n",
        "float_16_tensor"
      ]
    },
    {
      "cell_type": "code",
      "execution_count": null,
      "metadata": {
        "colab": {
          "base_uri": "https://localhost:8080/"
        },
        "id": "x8i2AhxZ-2pk",
        "outputId": "2f5bdca0-47e1-49e2-ee1f-eca838051bb5"
      },
      "outputs": [
        {
          "output_type": "execute_result",
          "data": {
            "text/plain": [
              "tensor([2, 3, 4], dtype=torch.int32)"
            ]
          },
          "metadata": {},
          "execution_count": 44
        }
      ],
      "source": [
        "int_32_tensor=torch.tensor([2,3,4],dtype=torch.int32)\n",
        "int_32_tensor"
      ]
    },
    {
      "cell_type": "code",
      "execution_count": null,
      "metadata": {
        "colab": {
          "base_uri": "https://localhost:8080/"
        },
        "id": "nOhTu9MgBCxq",
        "outputId": "67661d61-3468-4df0-d918-9dbdcea59bf8"
      },
      "outputs": [
        {
          "output_type": "execute_result",
          "data": {
            "text/plain": [
              "tensor([ 6., 18., 36.])"
            ]
          },
          "metadata": {},
          "execution_count": 45
        }
      ],
      "source": [
        "product_tensor=int_32_tensor * float_32_tensor\n",
        "product_tensor"
      ]
    },
    {
      "cell_type": "code",
      "execution_count": null,
      "metadata": {
        "colab": {
          "base_uri": "https://localhost:8080/"
        },
        "id": "t6wbQ6qXBF-T",
        "outputId": "016bfbd9-b440-4bea-e495-ed631190e122"
      },
      "outputs": [
        {
          "output_type": "execute_result",
          "data": {
            "text/plain": [
              "torch.float32"
            ]
          },
          "metadata": {},
          "execution_count": 46
        }
      ],
      "source": [
        "product_tensor.dtype"
      ]
    },
    {
      "cell_type": "code",
      "execution_count": null,
      "metadata": {
        "colab": {
          "base_uri": "https://localhost:8080/"
        },
        "id": "buzcX0fQLMc2",
        "outputId": "cf8b1755-78ff-4c23-d662-f1ccfc176e6a"
      },
      "outputs": [
        {
          "output_type": "execute_result",
          "data": {
            "text/plain": [
              "tensor([2, 3, 4])"
            ]
          },
          "metadata": {},
          "execution_count": 47
        }
      ],
      "source": [
        "long_tensor=torch.tensor([2,3,4],dtype=torch.long)\n",
        "long_tensor"
      ]
    },
    {
      "cell_type": "code",
      "execution_count": null,
      "metadata": {
        "colab": {
          "base_uri": "https://localhost:8080/"
        },
        "id": "FSZg0WrTLW9D",
        "outputId": "b2a85295-6810-4589-cc68-8bbbd434be1e"
      },
      "outputs": [
        {
          "output_type": "execute_result",
          "data": {
            "text/plain": [
              "tensor([ 6., 18., 36.], dtype=torch.float16)"
            ]
          },
          "metadata": {},
          "execution_count": 48
        }
      ],
      "source": [
        "long_tensor*float_16_tensor"
      ]
    },
    {
      "cell_type": "markdown",
      "metadata": {
        "id": "EfpnW0NXBo6o"
      },
      "source": [
        "**Tensor details**\n",
        "\n",
        "\n",
        "to get details from tensors\n",
        "\n",
        "\n",
        "1.tensors not right datatype- to get use torch.dtype\n",
        "2.tensors not right shape- to get tensor.shape\n",
        "3.tensors nor right device - to get use tensor.device"
      ]
    },
    {
      "cell_type": "code",
      "execution_count": null,
      "metadata": {
        "colab": {
          "base_uri": "https://localhost:8080/"
        },
        "id": "KYvEzJrNBfjp",
        "outputId": "7be994f8-3170-4833-e689-abb4d54bff98"
      },
      "outputs": [
        {
          "output_type": "execute_result",
          "data": {
            "text/plain": [
              "tensor([[0.7181, 0.8692, 0.7716, 0.5891],\n",
              "        [0.6776, 0.6260, 0.8719, 0.7802],\n",
              "        [0.9252, 0.6880, 0.4243, 0.8785]])"
            ]
          },
          "metadata": {},
          "execution_count": 49
        }
      ],
      "source": [
        "some_tensor=torch.rand(3,4)\n",
        "some_tensor"
      ]
    },
    {
      "cell_type": "code",
      "execution_count": null,
      "metadata": {
        "colab": {
          "base_uri": "https://localhost:8080/"
        },
        "id": "b_Wp5EjVCBU7",
        "outputId": "f4a2fe1b-b9a3-43d2-ceaa-dc2b1a829687"
      },
      "outputs": [
        {
          "output_type": "stream",
          "name": "stdout",
          "text": [
            "tensor([[0.7181, 0.8692, 0.7716, 0.5891],\n",
            "        [0.6776, 0.6260, 0.8719, 0.7802],\n",
            "        [0.9252, 0.6880, 0.4243, 0.8785]])\n",
            "the datatype of tensor is torch.float32\n",
            "the shape of tensor is torch.Size([3, 4])\n",
            "the device is cpu\n"
          ]
        }
      ],
      "source": [
        "print(some_tensor)\n",
        "print(f\"the datatype of tensor is {some_tensor.dtype}\")\n",
        "print(f\"the shape of tensor is {some_tensor.shape}\")\n",
        "print(f\"the device is {some_tensor.device}\")"
      ]
    },
    {
      "cell_type": "code",
      "execution_count": null,
      "metadata": {
        "colab": {
          "base_uri": "https://localhost:8080/"
        },
        "id": "IrBrejj6CeKK",
        "outputId": "0e33381b-babc-4e83-a8d7-ac292bc10632"
      },
      "outputs": [
        {
          "output_type": "stream",
          "name": "stdout",
          "text": [
            "torch.Size([3, 4])\n"
          ]
        }
      ],
      "source": [
        "# attributes written without (), tensor.shape,\n",
        "# functions written with (), .shape and .size() give same output\n",
        "print(some_tensor.size())"
      ]
    },
    {
      "cell_type": "code",
      "execution_count": null,
      "metadata": {
        "id": "kbJDuT6NCa1p"
      },
      "outputs": [],
      "source": [
        "#some_tensor=some_tensor.to(\"cuda\") to change device"
      ]
    },
    {
      "cell_type": "code",
      "execution_count": null,
      "metadata": {
        "id": "xRb_ZogVFV2F"
      },
      "outputs": [],
      "source": []
    },
    {
      "cell_type": "markdown",
      "metadata": {
        "id": "aX9ltiBdQNm8"
      },
      "source": [
        "### Manipulating tensors\n",
        "\n",
        "**tensor operations include:**\n",
        "1. add\n",
        "2. subtract\n",
        "3. multiplication (element- wise)\n",
        "4. division\n",
        "5. matrix multiplication"
      ]
    },
    {
      "cell_type": "code",
      "execution_count": null,
      "metadata": {
        "colab": {
          "base_uri": "https://localhost:8080/"
        },
        "id": "rP0ZnLBSQP5O",
        "outputId": "0184c8db-9042-4d6b-d739-aa43c08a07c1"
      },
      "outputs": [
        {
          "output_type": "execute_result",
          "data": {
            "text/plain": [
              "tensor([22, 23, 24])"
            ]
          },
          "metadata": {},
          "execution_count": 53
        }
      ],
      "source": [
        "# create a tensor\n",
        "tensor1= torch.tensor([2,3,4])\n",
        "tensor1+20"
      ]
    },
    {
      "cell_type": "code",
      "execution_count": null,
      "metadata": {
        "colab": {
          "base_uri": "https://localhost:8080/"
        },
        "id": "uxRgjh0_Qww5",
        "outputId": "69b6a1da-4973-4634-e0f6-d0be9f0a3202"
      },
      "outputs": [
        {
          "output_type": "execute_result",
          "data": {
            "text/plain": [
              "tensor([20, 30, 40])"
            ]
          },
          "metadata": {},
          "execution_count": 54
        }
      ],
      "source": [
        "#multiply by 10\n",
        "tensor1*10"
      ]
    },
    {
      "cell_type": "code",
      "execution_count": null,
      "metadata": {
        "colab": {
          "base_uri": "https://localhost:8080/"
        },
        "id": "DS63otI-Q05b",
        "outputId": "7df3e436-a9b4-45be-ba5c-d49fb4551e90"
      },
      "outputs": [
        {
          "output_type": "execute_result",
          "data": {
            "text/plain": [
              "tensor([2, 3, 4])"
            ]
          },
          "metadata": {},
          "execution_count": 55
        }
      ],
      "source": [
        "tensor1"
      ]
    },
    {
      "cell_type": "code",
      "execution_count": null,
      "metadata": {
        "colab": {
          "base_uri": "https://localhost:8080/"
        },
        "id": "r_M9UIr6Q3aA",
        "outputId": "839a4d58-eb3b-4dfc-bba3-3f950c7cf92e"
      },
      "outputs": [
        {
          "output_type": "execute_result",
          "data": {
            "text/plain": [
              "tensor([-8, -7, -6])"
            ]
          },
          "metadata": {},
          "execution_count": 56
        }
      ],
      "source": [
        "#subtract\n",
        "tensor1 - 10"
      ]
    },
    {
      "cell_type": "code",
      "execution_count": null,
      "metadata": {
        "colab": {
          "base_uri": "https://localhost:8080/"
        },
        "id": "tu8H5yNxRDBm",
        "outputId": "032565f9-edc5-4f80-9464-f6b4de3a8588"
      },
      "outputs": [
        {
          "output_type": "execute_result",
          "data": {
            "text/plain": [
              "tensor([20, 30, 40])"
            ]
          },
          "metadata": {},
          "execution_count": 57
        }
      ],
      "source": [
        "# pytorch inbuilt functions\n",
        "torch.mul(tensor1,10)"
      ]
    },
    {
      "cell_type": "code",
      "execution_count": null,
      "metadata": {
        "colab": {
          "base_uri": "https://localhost:8080/"
        },
        "id": "2_zNQPlnRJ3k",
        "outputId": "256ea563-8ba0-4e24-94c6-315265ec5861"
      },
      "outputs": [
        {
          "output_type": "execute_result",
          "data": {
            "text/plain": [
              "tensor([12, 13, 14])"
            ]
          },
          "metadata": {},
          "execution_count": 58
        }
      ],
      "source": [
        "torch.add(tensor1,10)"
      ]
    },
    {
      "cell_type": "markdown",
      "metadata": {
        "id": "5F4y_uYXif5o"
      },
      "source": [
        "### Matrix multiplication\n",
        "\n",
        "2 ways of doing it in neural networks\n",
        "1. element wise mul\n",
        "2. matrix multiplication(dot product)\n",
        "\n",
        "there are 2 rules for performing matrix mul:\n",
        "**@** refers to matrix multiplication\n",
        "1. the **inner dimension** must match:\n",
        "* `(3,2) @ (3,2)` won't work\n",
        "* `(2,3) @ (3,2)` will work\n",
        "*  `(3,2) @ (2,3)` will work\n",
        "\n",
        "3. the resulting shape is of the **outer dimensions**\n"
      ]
    },
    {
      "cell_type": "code",
      "execution_count": null,
      "metadata": {
        "colab": {
          "base_uri": "https://localhost:8080/"
        },
        "id": "keX72-IwSzA9",
        "outputId": "70e6c328-4663-4341-a31c-1effdb8a9cce"
      },
      "outputs": [
        {
          "output_type": "stream",
          "name": "stdout",
          "text": [
            "tensor([1., 4., 9.])\n"
          ]
        }
      ],
      "source": [
        "# element wise\n",
        "tensor=torch.tensor([1,2,3],dtype=torch.float32)\n",
        "print(tensor * tensor)"
      ]
    },
    {
      "cell_type": "code",
      "execution_count": null,
      "metadata": {
        "colab": {
          "base_uri": "https://localhost:8080/"
        },
        "id": "AeLH2alFRYuZ",
        "outputId": "bd0b7dd5-37bf-4dad-d3ba-d94dbed11fb6"
      },
      "outputs": [
        {
          "output_type": "execute_result",
          "data": {
            "text/plain": [
              "torch.Size([3])"
            ]
          },
          "metadata": {},
          "execution_count": 60
        }
      ],
      "source": [
        "tensor.shape"
      ]
    },
    {
      "cell_type": "code",
      "execution_count": null,
      "metadata": {
        "colab": {
          "base_uri": "https://localhost:8080/"
        },
        "id": "GPOSiwRujRGH",
        "outputId": "c4c7094f-992f-4fed-9ed9-f46a2d3687bd"
      },
      "outputs": [
        {
          "output_type": "execute_result",
          "data": {
            "text/plain": [
              "tensor(14.)"
            ]
          },
          "metadata": {},
          "execution_count": 61
        }
      ],
      "source": [
        "#matrix multiplication\n",
        "torch.matmul(tensor,tensor)"
      ]
    },
    {
      "cell_type": "code",
      "execution_count": null,
      "metadata": {
        "colab": {
          "base_uri": "https://localhost:8080/"
        },
        "id": "FwU3avLTkUdc",
        "outputId": "e01f0067-fe3e-4755-9382-c32854423dc3"
      },
      "outputs": [
        {
          "output_type": "execute_result",
          "data": {
            "text/plain": [
              "14"
            ]
          },
          "metadata": {},
          "execution_count": 62
        }
      ],
      "source": [
        "#matrix mul by hand\n",
        "1*1+2*2+3*3"
      ]
    },
    {
      "cell_type": "code",
      "execution_count": null,
      "metadata": {
        "colab": {
          "base_uri": "https://localhost:8080/"
        },
        "id": "D0YBieAikxIY",
        "outputId": "127947a2-d67c-4fb8-d23b-7166d1f0353c"
      },
      "outputs": [
        {
          "output_type": "stream",
          "name": "stdout",
          "text": [
            "tensor(12.)\n",
            "CPU times: user 2.28 ms, sys: 0 ns, total: 2.28 ms\n",
            "Wall time: 2.42 ms\n"
          ]
        }
      ],
      "source": [
        "#used to get computation time use %%time to find time\n",
        "%%time\n",
        "value=0\n",
        "for i in range(len(tensor)):\n",
        "  value+= tensor[i] + tensor[i]\n",
        "print(value)"
      ]
    },
    {
      "cell_type": "code",
      "execution_count": null,
      "metadata": {
        "colab": {
          "base_uri": "https://localhost:8080/"
        },
        "id": "l-jlBfSvlCBr",
        "outputId": "eed56ead-3400-4f61-e8d9-5b0cd4dfbc6f"
      },
      "outputs": [
        {
          "output_type": "stream",
          "name": "stdout",
          "text": [
            "CPU times: user 567 µs, sys: 0 ns, total: 567 µs\n",
            "Wall time: 464 µs\n"
          ]
        },
        {
          "output_type": "execute_result",
          "data": {
            "text/plain": [
              "tensor(14.)"
            ]
          },
          "metadata": {},
          "execution_count": 64
        }
      ],
      "source": [
        "%%time\n",
        "torch.matmul(tensor,tensor)"
      ]
    },
    {
      "cell_type": "code",
      "execution_count": null,
      "metadata": {
        "colab": {
          "base_uri": "https://localhost:8080/"
        },
        "id": "ImdsxyH-lQd_",
        "outputId": "7f4b85d2-68ba-4b68-c9d0-955d8e5cc655"
      },
      "outputs": [
        {
          "output_type": "stream",
          "name": "stdout",
          "text": [
            "3\n"
          ]
        }
      ],
      "source": [
        "print(len(tensor))"
      ]
    },
    {
      "cell_type": "code",
      "execution_count": null,
      "metadata": {
        "colab": {
          "base_uri": "https://localhost:8080/"
        },
        "id": "P4hFML0lmLef",
        "outputId": "1368a597-2994-4b99-e8fb-9bd7429d15b9"
      },
      "outputs": [
        {
          "output_type": "execute_result",
          "data": {
            "text/plain": [
              "tensor(14.)"
            ]
          },
          "metadata": {},
          "execution_count": 66
        }
      ],
      "source": [
        "tensor @ tensor"
      ]
    },
    {
      "cell_type": "code",
      "execution_count": null,
      "metadata": {
        "colab": {
          "base_uri": "https://localhost:8080/"
        },
        "id": "lyI7RRRCltRO",
        "outputId": "ebbc5f04-d474-47c2-96c4-f5208fa892fe"
      },
      "outputs": [
        {
          "output_type": "execute_result",
          "data": {
            "text/plain": [
              "tensor([[1.5821, 1.0735, 0.8294, 1.7060, 2.0463],\n",
              "        [0.7104, 0.3319, 0.3497, 0.6687, 0.6467],\n",
              "        [1.5491, 1.0246, 0.8777, 1.2622, 1.7926]])"
            ]
          },
          "metadata": {},
          "execution_count": 67
        }
      ],
      "source": [
        "# inner and outer dim\n",
        "a= torch.matmul(torch.rand(3,4),torch.rand(4,5)) # outer dimension is (3,5)\n",
        "a"
      ]
    },
    {
      "cell_type": "markdown",
      "metadata": {
        "id": "PDOzfE2oB2ZB"
      },
      "source": [
        "### shape errors -  one of the most common dl errors"
      ]
    },
    {
      "cell_type": "code",
      "execution_count": null,
      "metadata": {
        "colab": {
          "base_uri": "https://localhost:8080/",
          "height": 176
        },
        "id": "U3IXzbjz-VLT",
        "outputId": "4680710b-a5ee-4db6-fb4a-b9fd38942d3d"
      },
      "outputs": [
        {
          "output_type": "error",
          "ename": "RuntimeError",
          "evalue": "mat1 and mat2 shapes cannot be multiplied (3x2 and 3x2)",
          "traceback": [
            "\u001b[0;31m---------------------------------------------------------------------------\u001b[0m",
            "\u001b[0;31mRuntimeError\u001b[0m                              Traceback (most recent call last)",
            "\u001b[0;32m<ipython-input-68-cb27e2be2337>\u001b[0m in \u001b[0;36m<cell line: 0>\u001b[0;34m()\u001b[0m\n\u001b[1;32m      4\u001b[0m                         [5,6]])\n\u001b[1;32m      5\u001b[0m \u001b[0mtensor_B\u001b[0m\u001b[0;34m=\u001b[0m\u001b[0mtorch\u001b[0m\u001b[0;34m.\u001b[0m\u001b[0mtensor\u001b[0m\u001b[0;34m(\u001b[0m\u001b[0;34m[\u001b[0m\u001b[0;34m[\u001b[0m\u001b[0;36m7\u001b[0m\u001b[0;34m,\u001b[0m\u001b[0;36m10\u001b[0m\u001b[0;34m]\u001b[0m\u001b[0;34m,\u001b[0m\u001b[0;34m[\u001b[0m\u001b[0;36m8\u001b[0m\u001b[0;34m,\u001b[0m\u001b[0;36m11\u001b[0m\u001b[0;34m]\u001b[0m\u001b[0;34m,\u001b[0m\u001b[0;34m[\u001b[0m\u001b[0;36m9\u001b[0m\u001b[0;34m,\u001b[0m\u001b[0;36m12\u001b[0m\u001b[0;34m]\u001b[0m\u001b[0;34m]\u001b[0m\u001b[0;34m)\u001b[0m\u001b[0;34m\u001b[0m\u001b[0;34m\u001b[0m\u001b[0m\n\u001b[0;32m----> 6\u001b[0;31m \u001b[0mtorch\u001b[0m\u001b[0;34m.\u001b[0m\u001b[0mmm\u001b[0m\u001b[0;34m(\u001b[0m\u001b[0mtensor_A\u001b[0m\u001b[0;34m,\u001b[0m\u001b[0mtensor_B\u001b[0m\u001b[0;34m)\u001b[0m \u001b[0;31m#torch.mm is same as torch.matmul\u001b[0m\u001b[0;34m\u001b[0m\u001b[0;34m\u001b[0m\u001b[0m\n\u001b[0m",
            "\u001b[0;31mRuntimeError\u001b[0m: mat1 and mat2 shapes cannot be multiplied (3x2 and 3x2)"
          ]
        }
      ],
      "source": [
        "#shapes for matrix mul\n",
        "tensor_A= torch.tensor([[1,2],\n",
        "                        [3,4],\n",
        "                        [5,6]])\n",
        "tensor_B=torch.tensor([[7,10],[8,11],[9,12]])\n",
        "torch.mm(tensor_A,tensor_B) #torch.mm is same as torch.matmul"
      ]
    },
    {
      "cell_type": "code",
      "execution_count": null,
      "metadata": {
        "colab": {
          "base_uri": "https://localhost:8080/"
        },
        "id": "f58EAIT_MWuH",
        "outputId": "b9c590f4-0e0b-4d58-cdbc-ac92ac94287a"
      },
      "outputs": [
        {
          "output_type": "execute_result",
          "data": {
            "text/plain": [
              "tensor([[2.0985, 2.0242, 0.9395, 1.9685, 1.7354],\n",
              "        [1.3614, 1.4595, 0.7017, 1.3643, 1.0638],\n",
              "        [2.0218, 2.2151, 1.0519, 1.9143, 1.6603],\n",
              "        [1.3158, 1.0871, 0.4014, 1.1094, 0.8639],\n",
              "        [2.1163, 2.6106, 1.2108, 2.2684, 1.9681]])"
            ]
          },
          "metadata": {},
          "execution_count": 69
        }
      ],
      "source": [
        "torch.matmul(torch.rand(5,5),torch.rand(5,5))"
      ]
    },
    {
      "cell_type": "code",
      "execution_count": null,
      "metadata": {
        "colab": {
          "base_uri": "https://localhost:8080/"
        },
        "id": "lCJij-RGCugN",
        "outputId": "a68a17cb-5290-4eb7-8844-763fd720d70c"
      },
      "outputs": [
        {
          "output_type": "execute_result",
          "data": {
            "text/plain": [
              "(torch.Size([3, 2]), torch.Size([3, 2]))"
            ]
          },
          "metadata": {},
          "execution_count": 70
        }
      ],
      "source": [
        "tensor_A.shape, tensor_B.shape"
      ]
    },
    {
      "cell_type": "code",
      "execution_count": null,
      "metadata": {
        "id": "XXgUWVT6CyCb"
      },
      "outputs": [],
      "source": [
        "\n"
      ]
    },
    {
      "cell_type": "markdown",
      "metadata": {
        "id": "kj_rgo6LGGWW"
      },
      "source": [
        "### to fix out tensor shape issues we can manipulate,the shape of one of them using transpose .\n",
        "\n",
        "### **transpose** switches the axes or dimensions of a given tensor"
      ]
    },
    {
      "cell_type": "code",
      "execution_count": null,
      "metadata": {
        "colab": {
          "base_uri": "https://localhost:8080/"
        },
        "id": "JCg-_j9zGP9f",
        "outputId": "086897d6-f14f-4bed-f021-b3a5df7770b1"
      },
      "outputs": [
        {
          "output_type": "execute_result",
          "data": {
            "text/plain": [
              "tensor([[ 7,  8,  9],\n",
              "        [10, 11, 12]])"
            ]
          },
          "metadata": {},
          "execution_count": 71
        }
      ],
      "source": [
        "tensor_B.T"
      ]
    },
    {
      "cell_type": "code",
      "execution_count": null,
      "metadata": {
        "colab": {
          "base_uri": "https://localhost:8080/"
        },
        "id": "28winLmjGYFq",
        "outputId": "e6b4c928-5269-4503-eccd-15089565c32f"
      },
      "outputs": [
        {
          "output_type": "execute_result",
          "data": {
            "text/plain": [
              "tensor([[ 7, 10],\n",
              "        [ 8, 11],\n",
              "        [ 9, 12]])"
            ]
          },
          "metadata": {},
          "execution_count": 72
        }
      ],
      "source": [
        "tensor_B"
      ]
    },
    {
      "cell_type": "code",
      "execution_count": null,
      "metadata": {
        "colab": {
          "base_uri": "https://localhost:8080/"
        },
        "id": "Y3ZZgcg4Gdtq",
        "outputId": "406d9001-8073-44bc-b7c4-a2da9e3a61fc"
      },
      "outputs": [
        {
          "output_type": "execute_result",
          "data": {
            "text/plain": [
              "torch.Size([2, 3])"
            ]
          },
          "metadata": {},
          "execution_count": 73
        }
      ],
      "source": [
        "tensor_B.T.shape"
      ]
    },
    {
      "cell_type": "code",
      "execution_count": null,
      "metadata": {
        "colab": {
          "base_uri": "https://localhost:8080/"
        },
        "id": "uQcyMOhqGmTa",
        "outputId": "7c2e02e3-ba72-4b4f-f8b6-becf898a0671"
      },
      "outputs": [
        {
          "output_type": "execute_result",
          "data": {
            "text/plain": [
              "torch.Size([3, 2])"
            ]
          },
          "metadata": {},
          "execution_count": 74
        }
      ],
      "source": [
        "tensor_B.shape"
      ]
    },
    {
      "cell_type": "code",
      "execution_count": null,
      "metadata": {
        "colab": {
          "base_uri": "https://localhost:8080/"
        },
        "id": "ucSKW1lRGpIT",
        "outputId": "6f5b774c-0818-45b0-9771-9d4b107928b5"
      },
      "outputs": [
        {
          "output_type": "execute_result",
          "data": {
            "text/plain": [
              "torch.Size([3, 3])"
            ]
          },
          "metadata": {},
          "execution_count": 75
        }
      ],
      "source": [
        "torch.matmul(tensor_A, tensor_B.T).shape"
      ]
    },
    {
      "cell_type": "code",
      "execution_count": null,
      "metadata": {
        "colab": {
          "base_uri": "https://localhost:8080/"
        },
        "id": "Bhe7ps04G7aS",
        "outputId": "9383a29b-1bc9-4456-9a8f-68f7731b3655"
      },
      "outputs": [
        {
          "output_type": "execute_result",
          "data": {
            "text/plain": [
              "tensor([[ 27,  30,  33],\n",
              "        [ 61,  68,  75],\n",
              "        [ 95, 106, 117]])"
            ]
          },
          "metadata": {},
          "execution_count": 76
        }
      ],
      "source": [
        "tensor_A.matmul(tensor_B.T)"
      ]
    },
    {
      "cell_type": "code",
      "execution_count": null,
      "metadata": {
        "colab": {
          "base_uri": "https://localhost:8080/"
        },
        "id": "TthF6Xd5HCto",
        "outputId": "7184aa77-de32-4266-c44a-55da7793af98"
      },
      "outputs": [
        {
          "output_type": "stream",
          "name": "stdout",
          "text": [
            "Original shape: tensor_A = torch.Size([3, 2]), tensor_B: torch.Size([3, 2])\n",
            "the new shape is : torch.Size([3, 2]), tensor_B:torch.Size([2, 3])\n",
            "multiplying:tensor([[1, 2],\n",
            "        [3, 4],\n",
            "        [5, 6]]) @ tensor([[ 7,  8,  9],\n",
            "        [10, 11, 12]])\n",
            "output:\n",
            "\n",
            "tensor([[ 27,  30,  33],\n",
            "        [ 61,  68,  75],\n",
            "        [ 95, 106, 117]])\n",
            "\n",
            "Output shape:torch.Size([3, 3])\n"
          ]
        }
      ],
      "source": [
        "print(f\"Original shape: tensor_A = {tensor_A.shape}, tensor_B: {tensor_B.shape}\")\n",
        "print(f\"the new shape is : {tensor_A.shape}, tensor_B:{tensor_B.T.shape}\")\n",
        "print(f\"multiplying:{tensor_A} @ {tensor_B.T}\")\n",
        "print(f\"output:\\n\")\n",
        "output= tensor_A.matmul(tensor_B.T)\n",
        "print(output)\n",
        "print(f\"\\nOutput shape:{output.shape}\")"
      ]
    },
    {
      "cell_type": "code",
      "execution_count": null,
      "metadata": {
        "colab": {
          "base_uri": "https://localhost:8080/"
        },
        "id": "9NEhzRu5IGmz",
        "outputId": "f4bdc9b1-53c6-4e36-a778-43b96a0bcf03"
      },
      "outputs": [
        {
          "output_type": "execute_result",
          "data": {
            "text/plain": [
              "tensor([[ 76, 103],\n",
              "        [100, 136]])"
            ]
          },
          "metadata": {},
          "execution_count": 78
        }
      ],
      "source": [
        "tensor_A.T.matmul(tensor_B)"
      ]
    },
    {
      "cell_type": "code",
      "execution_count": null,
      "metadata": {
        "id": "83MITlhyIQj9"
      },
      "outputs": [],
      "source": [
        "mat1= torch.rand(5,6)\n",
        "mat2=torch.rand(6,7)"
      ]
    },
    {
      "cell_type": "code",
      "execution_count": null,
      "metadata": {
        "colab": {
          "base_uri": "https://localhost:8080/"
        },
        "id": "QFFqqfs0If0O",
        "outputId": "a861b651-fe98-4c7c-ef2f-b09d6936476d"
      },
      "outputs": [
        {
          "output_type": "execute_result",
          "data": {
            "text/plain": [
              "(tensor([[0.7458, 0.5845, 0.9474, 0.6028, 0.8316, 0.7475],\n",
              "         [0.4693, 0.9565, 0.8307, 0.8163, 0.7516, 0.4556],\n",
              "         [0.0769, 0.6846, 0.5382, 0.9918, 0.2234, 0.6030],\n",
              "         [0.8710, 0.9284, 0.9016, 0.2213, 0.7606, 0.0476],\n",
              "         [0.9499, 0.0737, 0.0500, 0.9707, 0.2429, 0.5785]]),\n",
              " tensor([[0.0656, 0.5425, 0.9358, 0.2551, 0.5448, 0.1498, 0.6923],\n",
              "         [0.1468, 0.7904, 0.5915, 0.5819, 0.6228, 0.2962, 0.0690],\n",
              "         [0.7492, 0.6270, 0.5776, 0.8302, 0.9014, 0.1570, 0.9302],\n",
              "         [0.8445, 0.6455, 0.5023, 0.2787, 0.9826, 0.9275, 0.5558],\n",
              "         [0.6156, 0.9243, 0.0919, 0.0232, 0.5931, 0.5259, 0.9667],\n",
              "         [0.9073, 0.9608, 0.6683, 0.7047, 0.5557, 0.7756, 0.6323]]))"
            ]
          },
          "metadata": {},
          "execution_count": 80
        }
      ],
      "source": [
        "mat1,mat2"
      ]
    },
    {
      "cell_type": "code",
      "execution_count": null,
      "metadata": {
        "colab": {
          "base_uri": "https://localhost:8080/"
        },
        "id": "RPgxyn14IhDI",
        "outputId": "9c551649-d85f-4766-9707-e21cf503fb2a"
      },
      "outputs": [
        {
          "output_type": "execute_result",
          "data": {
            "text/plain": [
              "tensor([[2.5438, 3.3365, 2.4695, 2.0310, 3.1251, 2.0098, 3.0495],\n",
              "        [2.3590, 3.1907, 2.2682, 1.9320, 3.1011, 1.9897, 2.6319],\n",
              "        [2.0310, 2.3463, 1.7094, 1.5714, 2.3955, 1.8039, 1.7495],\n",
              "        [1.5673, 2.6632, 2.0978, 1.6238, 2.5603, 1.1892, 2.3940],\n",
              "        [1.6049, 2.0119, 1.8579, 1.0106, 2.0279, 1.6488, 1.8494]])"
            ]
          },
          "metadata": {},
          "execution_count": 81
        }
      ],
      "source": [
        "mat1.mm(mat2)"
      ]
    },
    {
      "cell_type": "markdown",
      "metadata": {
        "id": "2on3Te38Iqh0"
      },
      "source": [
        "### tensor aggregation findind the max, min, sum"
      ]
    },
    {
      "cell_type": "code",
      "execution_count": null,
      "metadata": {
        "colab": {
          "base_uri": "https://localhost:8080/"
        },
        "id": "2kMd4594Ij4a",
        "outputId": "9676e850-efe4-43e0-d167-9b305fce3379"
      },
      "outputs": [
        {
          "output_type": "execute_result",
          "data": {
            "text/plain": [
              "tensor([ 0, 10, 20, 30, 40, 50, 60, 70, 80, 90])"
            ]
          },
          "metadata": {},
          "execution_count": 82
        }
      ],
      "source": [
        "x=torch.arange(0,100,10)\n",
        "x"
      ]
    },
    {
      "cell_type": "code",
      "execution_count": null,
      "metadata": {
        "colab": {
          "base_uri": "https://localhost:8080/"
        },
        "id": "4gFgPQ1bVimW",
        "outputId": "530ebf5d-2198-461a-86ad-645a0cdb06c6"
      },
      "outputs": [
        {
          "output_type": "execute_result",
          "data": {
            "text/plain": [
              "tensor(0)"
            ]
          },
          "metadata": {},
          "execution_count": 83
        }
      ],
      "source": [
        "#find the min\n",
        "torch.min(x)"
      ]
    },
    {
      "cell_type": "code",
      "execution_count": null,
      "metadata": {
        "colab": {
          "base_uri": "https://localhost:8080/"
        },
        "id": "LqeiV3MWVoAw",
        "outputId": "f58a328c-7812-4e4a-91aa-b883fb160da8"
      },
      "outputs": [
        {
          "output_type": "execute_result",
          "data": {
            "text/plain": [
              "tensor(0)"
            ]
          },
          "metadata": {},
          "execution_count": 84
        }
      ],
      "source": [
        "x.min()"
      ]
    },
    {
      "cell_type": "code",
      "execution_count": null,
      "metadata": {
        "colab": {
          "base_uri": "https://localhost:8080/"
        },
        "id": "UYvmzZxEVq1T",
        "outputId": "4f382b15-19dc-4b72-9316-aff274f67b62"
      },
      "outputs": [
        {
          "output_type": "execute_result",
          "data": {
            "text/plain": [
              "tensor(90)"
            ]
          },
          "metadata": {},
          "execution_count": 85
        }
      ],
      "source": [
        "#find the max\n",
        "x.max(),\n",
        "torch.max(x)"
      ]
    },
    {
      "cell_type": "code",
      "execution_count": null,
      "metadata": {
        "colab": {
          "base_uri": "https://localhost:8080/"
        },
        "id": "gKNzc4cJV-YZ",
        "outputId": "def7e621-0de0-427d-9008-3c4c154df51f"
      },
      "outputs": [
        {
          "output_type": "execute_result",
          "data": {
            "text/plain": [
              "torch.int64"
            ]
          },
          "metadata": {},
          "execution_count": 86
        }
      ],
      "source": [
        "x.dtype"
      ]
    },
    {
      "cell_type": "code",
      "execution_count": null,
      "metadata": {
        "colab": {
          "base_uri": "https://localhost:8080/",
          "height": 158
        },
        "id": "5BlD0xzyxStu",
        "outputId": "cf496b80-fb6a-4908-eaa3-46e1023ede6b"
      },
      "outputs": [
        {
          "output_type": "error",
          "ename": "RuntimeError",
          "evalue": "mean(): could not infer output dtype. Input dtype must be either a floating point or complex dtype. Got: Long",
          "traceback": [
            "\u001b[0;31m---------------------------------------------------------------------------\u001b[0m",
            "\u001b[0;31mRuntimeError\u001b[0m                              Traceback (most recent call last)",
            "\u001b[0;32m<ipython-input-87-455868396db1>\u001b[0m in \u001b[0;36m<cell line: 0>\u001b[0;34m()\u001b[0m\n\u001b[0;32m----> 1\u001b[0;31m \u001b[0mtorch\u001b[0m\u001b[0;34m.\u001b[0m\u001b[0mmean\u001b[0m\u001b[0;34m(\u001b[0m\u001b[0mx\u001b[0m\u001b[0;34m)\u001b[0m\u001b[0;34m\u001b[0m\u001b[0;34m\u001b[0m\u001b[0m\n\u001b[0m",
            "\u001b[0;31mRuntimeError\u001b[0m: mean(): could not infer output dtype. Input dtype must be either a floating point or complex dtype. Got: Long"
          ]
        }
      ],
      "source": [
        "torch.mean(x)"
      ]
    },
    {
      "cell_type": "code",
      "execution_count": null,
      "metadata": {
        "colab": {
          "base_uri": "https://localhost:8080/"
        },
        "id": "YK4gJqhEVwIH",
        "outputId": "bc54c71b-02d8-4acd-d30c-99249a398928"
      },
      "outputs": [
        {
          "output_type": "execute_result",
          "data": {
            "text/plain": [
              "tensor(45.)"
            ]
          },
          "metadata": {},
          "execution_count": 88
        }
      ],
      "source": [
        "# find the mean - works for float32\n",
        "torch.mean(x.type(torch.float32)) #mean works only for floating point"
      ]
    },
    {
      "cell_type": "code",
      "execution_count": null,
      "metadata": {
        "colab": {
          "base_uri": "https://localhost:8080/"
        },
        "id": "t0Zavc12V7XN",
        "outputId": "3edf1d4d-2ac6-4587-bf23-a3e28caf998f"
      },
      "outputs": [
        {
          "output_type": "execute_result",
          "data": {
            "text/plain": [
              "tensor(450)"
            ]
          },
          "metadata": {},
          "execution_count": 89
        }
      ],
      "source": [
        " # find the sum\n",
        "torch.sum(x)"
      ]
    },
    {
      "cell_type": "code",
      "execution_count": null,
      "metadata": {
        "colab": {
          "base_uri": "https://localhost:8080/"
        },
        "id": "r85eHzXZWjry",
        "outputId": "e7405e88-0221-4019-ac46-6e3cfa573722"
      },
      "outputs": [
        {
          "output_type": "execute_result",
          "data": {
            "text/plain": [
              "tensor(450)"
            ]
          },
          "metadata": {},
          "execution_count": 90
        }
      ],
      "source": [
        "x.sum()"
      ]
    },
    {
      "cell_type": "code",
      "execution_count": null,
      "metadata": {
        "colab": {
          "base_uri": "https://localhost:8080/"
        },
        "id": "vNTJFTaqWlNt",
        "outputId": "fdb44f6e-18ed-4645-dbf2-48687a13f4c6"
      },
      "outputs": [
        {
          "output_type": "execute_result",
          "data": {
            "text/plain": [
              "tensor(0)"
            ]
          },
          "metadata": {},
          "execution_count": 91
        }
      ],
      "source": [
        "#finding the positional min and max in tensor that has the minimum value\n",
        "# returns an index position\n",
        "x.argmin()"
      ]
    },
    {
      "cell_type": "code",
      "execution_count": null,
      "metadata": {
        "colab": {
          "base_uri": "https://localhost:8080/"
        },
        "id": "Xas-yr4dlK_V",
        "outputId": "3b3de195-a15d-4326-a636-751e97ccf294"
      },
      "outputs": [
        {
          "output_type": "execute_result",
          "data": {
            "text/plain": [
              "tensor(9)"
            ]
          },
          "metadata": {},
          "execution_count": 92
        }
      ],
      "source": [
        "x.argmax() #max position in index 9"
      ]
    },
    {
      "cell_type": "markdown",
      "metadata": {
        "id": "qaqexPtgwR4I"
      },
      "source": [
        "### Reshaping Stacking and Squeezing and Unsqueezing\n",
        "* Reshaping- rehsapes an input tensor to defined shape\n",
        "* View- return a view of an input tensor of a certain shape but keep the same memory as the original tensor\n",
        "* stacking- combine multiple tensors on top of one another\n",
        "* squeeze -  removes all `1` dimensions from a tensor\n",
        "* unsqueeze -  add a `1` to target tensor\n",
        "* permute- return a view of the tensor with dimensions permuted (swapped) in a certain way"
      ]
    },
    {
      "cell_type": "code",
      "execution_count": null,
      "metadata": {
        "colab": {
          "base_uri": "https://localhost:8080/"
        },
        "id": "amrxE5Mbv9rA",
        "outputId": "286fbd7b-07ea-44e5-abb2-fad0d22f8b17"
      },
      "outputs": [
        {
          "output_type": "execute_result",
          "data": {
            "text/plain": [
              "(tensor([ 1.,  2.,  3.,  4.,  5.,  6.,  7.,  8.,  9., 10.]), torch.Size([10]))"
            ]
          },
          "metadata": {},
          "execution_count": 93
        }
      ],
      "source": [
        "import torch\n",
        "x= torch.arange(1.,11.)\n",
        "x,x.shape"
      ]
    },
    {
      "cell_type": "code",
      "execution_count": null,
      "metadata": {
        "colab": {
          "base_uri": "https://localhost:8080/"
        },
        "id": "QbGkR-VN0lhD",
        "outputId": "26cb5620-9393-4e17-ff16-4f43fb87f472"
      },
      "outputs": [
        {
          "output_type": "execute_result",
          "data": {
            "text/plain": [
              "(tensor([[ 1.,  2.,  3.,  4.,  5.,  6.,  7.,  8.,  9., 10.]]),\n",
              " torch.Size([1, 10]))"
            ]
          },
          "metadata": {},
          "execution_count": 94
        }
      ],
      "source": [
        "# reshape- add an extra dimension\n",
        "#x_reshaped= x.reshape(1,7) #throws an error\n",
        "x_reshaped= x.reshape(1,10)\n",
        "x_reshaped,x_reshaped.shape"
      ]
    },
    {
      "cell_type": "code",
      "execution_count": null,
      "metadata": {
        "colab": {
          "base_uri": "https://localhost:8080/"
        },
        "id": "8rBH9GLI2Qpn",
        "outputId": "1bb18901-f405-4cef-c7ea-4e1abe5680d1"
      },
      "outputs": [
        {
          "output_type": "execute_result",
          "data": {
            "text/plain": [
              "tensor([[ 1.],\n",
              "        [ 2.],\n",
              "        [ 3.],\n",
              "        [ 4.],\n",
              "        [ 5.],\n",
              "        [ 6.],\n",
              "        [ 7.],\n",
              "        [ 8.],\n",
              "        [ 9.],\n",
              "        [10.]])"
            ]
          },
          "metadata": {},
          "execution_count": 95
        }
      ],
      "source": [
        "x_reshaped = x.reshape(10,1)\n",
        "x_reshaped"
      ]
    },
    {
      "cell_type": "code",
      "execution_count": null,
      "metadata": {
        "colab": {
          "base_uri": "https://localhost:8080/"
        },
        "id": "SK12Hyhy2UNU",
        "outputId": "9d91f571-000f-4e2f-e9e9-60de60593ee8"
      },
      "outputs": [
        {
          "output_type": "execute_result",
          "data": {
            "text/plain": [
              "tensor([[ 1.,  2.],\n",
              "        [ 3.,  4.],\n",
              "        [ 5.,  6.],\n",
              "        [ 7.,  8.],\n",
              "        [ 9., 10.]])"
            ]
          },
          "metadata": {},
          "execution_count": 96
        }
      ],
      "source": [
        "x_reshaped=x.reshape(5,2)\n",
        "x_reshaped"
      ]
    },
    {
      "cell_type": "code",
      "source": [
        "x_reshaped=x.reshape(2,5)\n",
        "x_reshaped"
      ],
      "metadata": {
        "colab": {
          "base_uri": "https://localhost:8080/"
        },
        "id": "jzfy1HLANQHK",
        "outputId": "69cf43bf-9469-4eff-869d-6a054ca4e487"
      },
      "execution_count": null,
      "outputs": [
        {
          "output_type": "execute_result",
          "data": {
            "text/plain": [
              "tensor([[ 1.,  2.,  3.,  4.,  5.],\n",
              "        [ 6.,  7.,  8.,  9., 10.]])"
            ]
          },
          "metadata": {},
          "execution_count": 99
        }
      ]
    },
    {
      "cell_type": "code",
      "execution_count": null,
      "metadata": {
        "id": "ZHpOQm9u3_qF"
      },
      "outputs": [],
      "source": [
        "y=torch.arange(1.,10.)"
      ]
    },
    {
      "cell_type": "code",
      "execution_count": null,
      "metadata": {
        "colab": {
          "base_uri": "https://localhost:8080/"
        },
        "id": "oY5z0gRU4KTH",
        "outputId": "7110fd7e-ab41-4b1a-b7d2-4244394d3b98"
      },
      "outputs": [
        {
          "output_type": "execute_result",
          "data": {
            "text/plain": [
              "torch.Size([9])"
            ]
          },
          "metadata": {},
          "execution_count": 101
        }
      ],
      "source": [
        "y.shape"
      ]
    },
    {
      "cell_type": "code",
      "execution_count": null,
      "metadata": {
        "colab": {
          "base_uri": "https://localhost:8080/"
        },
        "id": "ZeLVBnzA4LTN",
        "outputId": "4cde9aaf-2e54-4c34-8103-a1687dacd221"
      },
      "outputs": [
        {
          "output_type": "execute_result",
          "data": {
            "text/plain": [
              "tensor([[1., 2., 3., 4., 5., 6., 7., 8., 9.]])"
            ]
          },
          "metadata": {},
          "execution_count": 102
        }
      ],
      "source": [
        "y_reshaped= y.reshape(1,9)\n",
        "y_reshaped"
      ]
    },
    {
      "cell_type": "code",
      "execution_count": null,
      "metadata": {
        "colab": {
          "base_uri": "https://localhost:8080/"
        },
        "id": "0_Y7gp1I4Qe8",
        "outputId": "a7ad021f-6206-4d5d-db48-d36b0eb77db5"
      },
      "outputs": [
        {
          "output_type": "execute_result",
          "data": {
            "text/plain": [
              "tensor([[1.],\n",
              "        [2.],\n",
              "        [3.],\n",
              "        [4.],\n",
              "        [5.],\n",
              "        [6.],\n",
              "        [7.],\n",
              "        [8.],\n",
              "        [9.]])"
            ]
          },
          "metadata": {},
          "execution_count": 103
        }
      ],
      "source": [
        "y_reshaped_1=y.reshape(9,1)\n",
        "y_reshaped_1"
      ]
    },
    {
      "cell_type": "code",
      "execution_count": null,
      "metadata": {
        "colab": {
          "base_uri": "https://localhost:8080/"
        },
        "id": "RrH1A1Tt4VfJ",
        "outputId": "6cff9f98-730d-43b2-8488-c31acae2fc46"
      },
      "outputs": [
        {
          "output_type": "execute_result",
          "data": {
            "text/plain": [
              "tensor([[1., 2., 3.],\n",
              "        [4., 5., 6.],\n",
              "        [7., 8., 9.]])"
            ]
          },
          "metadata": {},
          "execution_count": 104
        }
      ],
      "source": [
        "y_reshaped_2= y.reshape(3,3)\n",
        "y_reshaped_2"
      ]
    },
    {
      "cell_type": "code",
      "execution_count": null,
      "metadata": {
        "colab": {
          "base_uri": "https://localhost:8080/"
        },
        "id": "nqS6PC-DMF-O",
        "outputId": "461135c7-c845-4022-e3ef-4a60758306c1"
      },
      "outputs": [
        {
          "output_type": "execute_result",
          "data": {
            "text/plain": [
              "(tensor([[ 1.,  2.,  3.,  4.,  5.,  6.,  7.,  8.,  9., 10.]]),\n",
              " torch.Size([1, 10]))"
            ]
          },
          "metadata": {},
          "execution_count": 105
        }
      ],
      "source": [
        "# change the view\n",
        "z=x.view(1,10) #view(size)\n",
        "z,z.shape"
      ]
    },
    {
      "cell_type": "code",
      "execution_count": null,
      "metadata": {
        "colab": {
          "base_uri": "https://localhost:8080/"
        },
        "id": "3vqiG525ObGG",
        "outputId": "e0083b9a-bac7-4a5a-c9f1-ee695b868419"
      },
      "outputs": [
        {
          "output_type": "execute_result",
          "data": {
            "text/plain": [
              "(tensor([[1., 2., 3., 4., 5., 6., 7., 8., 9.]]),\n",
              " tensor([1., 2., 3., 4., 5., 6., 7., 8., 9.]))"
            ]
          },
          "metadata": {},
          "execution_count": 106
        }
      ],
      "source": [
        "w= y.view(1,9)\n",
        "w,y"
      ]
    },
    {
      "cell_type": "code",
      "execution_count": null,
      "metadata": {
        "colab": {
          "base_uri": "https://localhost:8080/"
        },
        "id": "aW62S9DpOiGT",
        "outputId": "a0af97d4-28bb-4c65-950e-6ab1dd7aa3c9"
      },
      "outputs": [
        {
          "output_type": "execute_result",
          "data": {
            "text/plain": [
              "(tensor([[5., 2., 3., 4., 5., 6., 7., 8., 9.]]),\n",
              " tensor([5., 2., 3., 4., 5., 6., 7., 8., 9.]))"
            ]
          },
          "metadata": {},
          "execution_count": 107
        }
      ],
      "source": [
        "w[:,0]=5\n",
        "w,y"
      ]
    },
    {
      "cell_type": "code",
      "execution_count": null,
      "metadata": {
        "colab": {
          "base_uri": "https://localhost:8080/"
        },
        "id": "DmXkkRfHO1Q4",
        "outputId": "e06fa8e3-2519-4cdb-b293-2d68e1b40cc1"
      },
      "outputs": [
        {
          "output_type": "execute_result",
          "data": {
            "text/plain": [
              "(tensor([[ 8.,  2.,  3.,  4.,  5.,  6.,  7.,  8.,  9., 10.]]),\n",
              " tensor([ 8.,  2.,  3.,  4.,  5.,  6.,  7.,  8.,  9., 10.]))"
            ]
          },
          "metadata": {},
          "execution_count": 108
        }
      ],
      "source": [
        "# changing z changes x (because view of the tensor shares the same memory as the original input)\n",
        "z[:,0]=8\n",
        "z,x"
      ]
    },
    {
      "cell_type": "markdown",
      "metadata": {
        "id": "RdSaG79seoeK"
      },
      "source": [
        "Use of torch.stack-\n",
        "https://stackoverflow.com/questions/69220221/use-of-torch-stack"
      ]
    },
    {
      "cell_type": "code",
      "execution_count": null,
      "metadata": {
        "colab": {
          "base_uri": "https://localhost:8080/"
        },
        "id": "gZUvMfN3PNVl",
        "outputId": "28003bbf-ab7e-4e80-ad23-5863552e89a4"
      },
      "outputs": [
        {
          "output_type": "execute_result",
          "data": {
            "text/plain": [
              "tensor([[ 8.,  2.,  3.,  4.,  5.,  6.,  7.,  8.,  9., 10.],\n",
              "        [ 8.,  2.,  3.,  4.,  5.,  6.,  7.,  8.,  9., 10.],\n",
              "        [ 8.,  2.,  3.,  4.,  5.,  6.,  7.,  8.,  9., 10.]])"
            ]
          },
          "metadata": {},
          "execution_count": 109
        }
      ],
      "source": [
        "#stack tensors on top of each other\n",
        "x_stacked= torch.stack([x,x,x]) #optional-dim=0)\n",
        "x_stacked"
      ]
    },
    {
      "cell_type": "code",
      "execution_count": null,
      "metadata": {
        "colab": {
          "base_uri": "https://localhost:8080/"
        },
        "id": "XB9imAwmTYzR",
        "outputId": "deda729c-0add-4f3a-f382-dbe2507b2531"
      },
      "outputs": [
        {
          "output_type": "execute_result",
          "data": {
            "text/plain": [
              "tensor([[[0.3375, 0.9730, 0.9775, 0.7002, 0.4666],\n",
              "         [0.9022, 0.7481, 0.7502, 0.2330, 0.8010],\n",
              "         [0.3486, 0.5391, 0.0086, 0.1411, 0.8849]]])"
            ]
          },
          "metadata": {},
          "execution_count": 110
        }
      ],
      "source": [
        "#torch.squeeze-  removes all single dimension from a target tensor\n",
        "b= torch.rand(1,3,5)\n",
        "b"
      ]
    },
    {
      "cell_type": "code",
      "execution_count": null,
      "metadata": {
        "colab": {
          "base_uri": "https://localhost:8080/"
        },
        "id": "QFkepyXg8KIj",
        "outputId": "f712f580-ac83-4952-9c86-1e150145a121"
      },
      "outputs": [
        {
          "output_type": "execute_result",
          "data": {
            "text/plain": [
              "torch.Size([1, 3, 5])"
            ]
          },
          "metadata": {},
          "execution_count": 111
        }
      ],
      "source": [
        "b.size()"
      ]
    },
    {
      "cell_type": "code",
      "execution_count": null,
      "metadata": {
        "colab": {
          "base_uri": "https://localhost:8080/"
        },
        "id": "fDDeEwne8MtY",
        "outputId": "5c69159a-58aa-45d4-fe59-8fd24b0a9ff8"
      },
      "outputs": [
        {
          "output_type": "execute_result",
          "data": {
            "text/plain": [
              "tensor([[0.3375, 0.9730, 0.9775, 0.7002, 0.4666],\n",
              "        [0.9022, 0.7481, 0.7502, 0.2330, 0.8010],\n",
              "        [0.3486, 0.5391, 0.0086, 0.1411, 0.8849]])"
            ]
          },
          "metadata": {},
          "execution_count": 112
        }
      ],
      "source": [
        "b.squeeze()"
      ]
    },
    {
      "cell_type": "code",
      "execution_count": null,
      "metadata": {
        "colab": {
          "base_uri": "https://localhost:8080/"
        },
        "id": "GzmQ5N6l8TCd",
        "outputId": "0f4a56f2-06d6-4a0a-8acd-f4527ac5115a"
      },
      "outputs": [
        {
          "output_type": "stream",
          "name": "stdout",
          "text": [
            "Previous tensor: tensor([[[0.3375, 0.9730, 0.9775, 0.7002, 0.4666],\n",
            "         [0.9022, 0.7481, 0.7502, 0.2330, 0.8010],\n",
            "         [0.3486, 0.5391, 0.0086, 0.1411, 0.8849]]])\n",
            "previous shape: torch.Size([1, 3, 5])\n",
            "tensor after squeezing: tensor([[0.3375, 0.9730, 0.9775, 0.7002, 0.4666],\n",
            "        [0.9022, 0.7481, 0.7502, 0.2330, 0.8010],\n",
            "        [0.3486, 0.5391, 0.0086, 0.1411, 0.8849]])\n",
            "tensor shape after squeezing: torch.Size([3, 5])\n"
          ]
        }
      ],
      "source": [
        "#torch squeeze\n",
        "print(f\"Previous tensor: {b}\")\n",
        "print(f\"previous shape: {b.shape}\")\n",
        "print(f\"tensor after squeezing: {b.squeeze()}\")\n",
        "print(f\"tensor shape after squeezing: {b.squeeze().shape}\")"
      ]
    },
    {
      "cell_type": "code",
      "execution_count": null,
      "metadata": {
        "colab": {
          "base_uri": "https://localhost:8080/"
        },
        "id": "eQM_6Kr4_6i5",
        "outputId": "29b1d442-d9fc-45a5-addd-ca3d559494da"
      },
      "outputs": [
        {
          "output_type": "stream",
          "name": "stdout",
          "text": [
            "previous tensor : tensor([[0.3375, 0.9730, 0.9775, 0.7002, 0.4666],\n",
            "        [0.9022, 0.7481, 0.7502, 0.2330, 0.8010],\n",
            "        [0.3486, 0.5391, 0.0086, 0.1411, 0.8849]])\n",
            "previous shape: torch.Size([3, 5])\n",
            "\n",
            " new tensor :tensor([[[0.3375, 0.9730, 0.9775, 0.7002, 0.4666],\n",
            "         [0.9022, 0.7481, 0.7502, 0.2330, 0.8010],\n",
            "         [0.3486, 0.5391, 0.0086, 0.1411, 0.8849]]])\n",
            "shape:torch.Size([1, 3, 5])\n"
          ]
        }
      ],
      "source": [
        "# torch unsqueeze -  adds a single dimension to a target tensor at a specific dimension\n",
        "b_squeezed= b.squeeze()\n",
        "print(f\"previous tensor : {b_squeezed}\")\n",
        "print(f\"previous shape: {b_squeezed.shape}\")\n",
        "#after unsqueezing\n",
        "b_unsqueezed=b_squeezed.unsqueeze(dim=0)\n",
        "print(f\"\\n new tensor :{b_unsqueezed}\")\n",
        "print(f\"shape:{b_unsqueezed.shape}\")"
      ]
    },
    {
      "cell_type": "code",
      "execution_count": null,
      "metadata": {
        "colab": {
          "base_uri": "https://localhost:8080/"
        },
        "id": "YLbwEM0XB2lI",
        "outputId": "aff05958-aeee-4529-8f6a-a3816d5665cf"
      },
      "outputs": [
        {
          "output_type": "execute_result",
          "data": {
            "text/plain": [
              "(torch.Size([3, 224, 224]), torch.Size([224, 224, 3]))"
            ]
          },
          "metadata": {},
          "execution_count": 115
        }
      ],
      "source": [
        "# torch.permute -  rearranges the dimensions of a target tensor in a specified order\n",
        "x_original=torch.rand(size=(224,224,3))\n",
        "#Permute the original tensor to rearrange the axis (or dim) order\n",
        "x_permuted= x_original.permute(2,0,1) #shifts axia 0->1, 1->2 and 2->0\n",
        "x_permuted.shape, x_original.shape"
      ]
    },
    {
      "cell_type": "code",
      "execution_count": null,
      "metadata": {
        "colab": {
          "base_uri": "https://localhost:8080/"
        },
        "id": "qlFBGtj1Am10",
        "outputId": "32e19148-e6dd-426c-83cc-9a6fdff89c99"
      },
      "outputs": [
        {
          "output_type": "execute_result",
          "data": {
            "text/plain": [
              "tensor([[[[[0., 0.]],\n",
              "\n",
              "          [[0., 0.]]]],\n",
              "\n",
              "\n",
              "\n",
              "        [[[[0., 0.]],\n",
              "\n",
              "          [[0., 0.]]]]])"
            ]
          },
          "metadata": {},
          "execution_count": 116
        }
      ],
      "source": [
        "x = torch.zeros(2, 1, 2, 1, 2)\n",
        "x"
      ]
    },
    {
      "cell_type": "code",
      "execution_count": null,
      "metadata": {
        "colab": {
          "base_uri": "https://localhost:8080/"
        },
        "id": "ZSpoSOleUxFF",
        "outputId": "060692c2-d0d5-4958-a822-72dd8f1bc456"
      },
      "outputs": [
        {
          "output_type": "execute_result",
          "data": {
            "text/plain": [
              "(tensor([[[0., 0.],\n",
              "          [0., 0.]],\n",
              " \n",
              "         [[0., 0.],\n",
              "          [0., 0.]]]),\n",
              " torch.Size([2, 2, 2]))"
            ]
          },
          "metadata": {},
          "execution_count": 117
        }
      ],
      "source": [
        "y = torch.squeeze(x)\n",
        "y,y.shape"
      ]
    },
    {
      "cell_type": "code",
      "execution_count": null,
      "metadata": {
        "colab": {
          "base_uri": "https://localhost:8080/"
        },
        "id": "ce8zAToTYPV4",
        "outputId": "458fd92c-c729-450d-e6f3-1b5ed4babcca"
      },
      "outputs": [
        {
          "output_type": "execute_result",
          "data": {
            "text/plain": [
              "(torch.Size([12, 14, 4]), torch.Size([12, 4, 14]))"
            ]
          },
          "metadata": {},
          "execution_count": 118
        }
      ],
      "source": [
        "x=torch.rand(12,14,4)\n",
        "y=x.permute(0,2,1)\n",
        "x.shape,y.shape"
      ]
    },
    {
      "cell_type": "code",
      "execution_count": null,
      "metadata": {
        "colab": {
          "base_uri": "https://localhost:8080/"
        },
        "id": "lKdWH9YiYYNZ",
        "outputId": "6d9486ca-0c98-4844-89a8-3f042a36e0c8"
      },
      "outputs": [
        {
          "output_type": "execute_result",
          "data": {
            "text/plain": [
              "(tensor(0.8903), tensor(0.8903))"
            ]
          },
          "metadata": {},
          "execution_count": 119
        }
      ],
      "source": [
        "x[0,0,0],y[0,0,0]"
      ]
    },
    {
      "cell_type": "code",
      "execution_count": null,
      "metadata": {
        "id": "_B39vTmlYcWX"
      },
      "outputs": [],
      "source": [
        "x[0,0,0]=0.4309"
      ]
    },
    {
      "cell_type": "code",
      "execution_count": null,
      "metadata": {
        "colab": {
          "base_uri": "https://localhost:8080/"
        },
        "id": "RPXTnSieYia1",
        "outputId": "becec88e-ec10-4c19-e4b3-5ca979fb7f4d"
      },
      "outputs": [
        {
          "output_type": "execute_result",
          "data": {
            "text/plain": [
              "(tensor(0.4309), tensor(0.4309))"
            ]
          },
          "metadata": {},
          "execution_count": 121
        }
      ],
      "source": [
        "x[0,0,0],y[0,0,0] # permute also shares the same memory as the original one and hence the value changes in y when x changes."
      ]
    },
    {
      "cell_type": "markdown",
      "metadata": {
        "id": "SOpPlelJDo6p"
      },
      "source": [
        "## Indexing (selecting data from tensor)\n",
        "similar to numpy indexing"
      ]
    },
    {
      "cell_type": "markdown",
      "metadata": {
        "id": "OoB_n5huDpHj"
      },
      "source": []
    },
    {
      "cell_type": "code",
      "execution_count": null,
      "metadata": {
        "id": "ws6eyE7yDR4l",
        "colab": {
          "base_uri": "https://localhost:8080/"
        },
        "outputId": "1755aa27-5eee-4105-b2b9-e75ea62d35b0"
      },
      "outputs": [
        {
          "output_type": "execute_result",
          "data": {
            "text/plain": [
              "(tensor([[[1, 2, 3],\n",
              "          [4, 5, 6],\n",
              "          [7, 8, 9]]]),\n",
              " torch.Size([1, 3, 3]))"
            ]
          },
          "metadata": {},
          "execution_count": 122
        }
      ],
      "source": [
        "import torch\n",
        "x= torch.arange(1,10).reshape(1,3,3)\n",
        "x, x.shape"
      ]
    },
    {
      "cell_type": "code",
      "execution_count": null,
      "metadata": {
        "id": "TXU54PG4Dz4P",
        "colab": {
          "base_uri": "https://localhost:8080/"
        },
        "outputId": "c399ba98-8d48-44b3-f647-16d5ce610306"
      },
      "outputs": [
        {
          "output_type": "execute_result",
          "data": {
            "text/plain": [
              "tensor([[1, 2, 3],\n",
              "        [4, 5, 6],\n",
              "        [7, 8, 9]])"
            ]
          },
          "metadata": {},
          "execution_count": 123
        }
      ],
      "source": [
        "#indexing on our tensor\n",
        "x[0]"
      ]
    },
    {
      "cell_type": "code",
      "execution_count": null,
      "metadata": {
        "id": "SE6-_-DHD_U5",
        "colab": {
          "base_uri": "https://localhost:8080/"
        },
        "outputId": "ff5382a8-c288-4c81-9a0e-c7278d52aa58"
      },
      "outputs": [
        {
          "output_type": "execute_result",
          "data": {
            "text/plain": [
              "tensor([1, 2, 3])"
            ]
          },
          "metadata": {},
          "execution_count": 124
        }
      ],
      "source": [
        "#indexing on middle bracket\n",
        "x[0][0] #same as x[0,0]"
      ]
    },
    {
      "cell_type": "code",
      "execution_count": null,
      "metadata": {
        "id": "aBxL4wH4EFl9",
        "colab": {
          "base_uri": "https://localhost:8080/"
        },
        "outputId": "41463ce5-f8c4-43a3-8d79-397374d3de9c"
      },
      "outputs": [
        {
          "output_type": "execute_result",
          "data": {
            "text/plain": [
              "tensor(1)"
            ]
          },
          "metadata": {},
          "execution_count": 125
        }
      ],
      "source": [
        "#indexing on the inner bracket\n",
        "x[0][0][0]"
      ]
    },
    {
      "cell_type": "code",
      "execution_count": null,
      "metadata": {
        "id": "wonBCyi7ET-N",
        "colab": {
          "base_uri": "https://localhost:8080/"
        },
        "outputId": "7e6588f2-d02c-40bf-d0f4-18d12a8b7980"
      },
      "outputs": [
        {
          "output_type": "execute_result",
          "data": {
            "text/plain": [
              "tensor(1)"
            ]
          },
          "metadata": {},
          "execution_count": 126
        }
      ],
      "source": [
        "x[0,0,0]"
      ]
    },
    {
      "cell_type": "code",
      "execution_count": null,
      "metadata": {
        "id": "2OkxsSifHJEB",
        "colab": {
          "base_uri": "https://localhost:8080/"
        },
        "outputId": "761721a9-e5ca-450c-8b9f-9e9f96b722a1"
      },
      "outputs": [
        {
          "output_type": "execute_result",
          "data": {
            "text/plain": [
              "tensor(5)"
            ]
          },
          "metadata": {},
          "execution_count": 127
        }
      ],
      "source": [
        "x[0,1,1]"
      ]
    },
    {
      "cell_type": "code",
      "execution_count": null,
      "metadata": {
        "id": "6jpucfo8HQ9g",
        "colab": {
          "base_uri": "https://localhost:8080/"
        },
        "outputId": "afe7d8df-cd6f-4fd7-8bb4-abc22fe5a007"
      },
      "outputs": [
        {
          "output_type": "execute_result",
          "data": {
            "text/plain": [
              "tensor(9)"
            ]
          },
          "metadata": {},
          "execution_count": 128
        }
      ],
      "source": [
        "x[0,2,2]"
      ]
    },
    {
      "cell_type": "code",
      "execution_count": null,
      "metadata": {
        "id": "dDC_JJzBH1cJ",
        "colab": {
          "base_uri": "https://localhost:8080/"
        },
        "outputId": "af947e0a-5bfa-4c25-c405-e028cf6b72d4"
      },
      "outputs": [
        {
          "output_type": "execute_result",
          "data": {
            "text/plain": [
              "tensor([[1, 2, 3]])"
            ]
          },
          "metadata": {},
          "execution_count": 129
        }
      ],
      "source": [
        "# we can use \":\" to select all of a target dimension\n",
        "x[:,0]"
      ]
    },
    {
      "cell_type": "code",
      "execution_count": null,
      "metadata": {
        "id": "SycQrjwgIBEv",
        "colab": {
          "base_uri": "https://localhost:8080/"
        },
        "outputId": "230fab66-d642-4491-ae33-95601ed2422a"
      },
      "outputs": [
        {
          "output_type": "execute_result",
          "data": {
            "text/plain": [
              "tensor([[2, 5, 8]])"
            ]
          },
          "metadata": {},
          "execution_count": 133
        }
      ],
      "source": [
        "x[:,:,1]"
      ]
    },
    {
      "cell_type": "code",
      "execution_count": null,
      "metadata": {
        "id": "XuqS160EIbm-",
        "colab": {
          "base_uri": "https://localhost:8080/"
        },
        "outputId": "698f8fc6-a5fa-44c7-ca75-fbf6287cae52"
      },
      "outputs": [
        {
          "output_type": "execute_result",
          "data": {
            "text/plain": [
              "tensor([5])"
            ]
          },
          "metadata": {},
          "execution_count": 131
        }
      ],
      "source": [
        "x[:,1,1]"
      ]
    },
    {
      "cell_type": "code",
      "execution_count": null,
      "metadata": {
        "id": "AR2OMtrtJ40f",
        "colab": {
          "base_uri": "https://localhost:8080/"
        },
        "outputId": "b3714078-e25f-4789-9fc9-2c421e0823b7"
      },
      "outputs": [
        {
          "output_type": "execute_result",
          "data": {
            "text/plain": [
              "tensor([1, 2, 3])"
            ]
          },
          "metadata": {},
          "execution_count": 132
        }
      ],
      "source": [
        "x[0,0,:]"
      ]
    },
    {
      "cell_type": "code",
      "execution_count": null,
      "metadata": {
        "id": "78amTKETNdpM"
      },
      "outputs": [],
      "source": []
    },
    {
      "cell_type": "markdown",
      "metadata": {
        "id": "WN9N5tJqUIoz"
      },
      "source": [
        "## Pytorch and Numpy\n",
        "* data in numpy, want in pytorch tensor ->`torch.from_numpy(ndarray)`\n",
        "*Pytorch tensor -> numpy ->`torch.tensor.numpy`"
      ]
    },
    {
      "cell_type": "code",
      "execution_count": null,
      "metadata": {
        "colab": {
          "base_uri": "https://localhost:8080/"
        },
        "id": "07b96uq-UeJB",
        "outputId": "885b0597-c111-4984-b901-fd8406eb6899"
      },
      "outputs": [
        {
          "output_type": "execute_result",
          "data": {
            "text/plain": [
              "(array([1., 2., 3., 4., 5., 6., 7., 8.]),\n",
              " tensor([1., 2., 3., 4., 5., 6., 7., 8.], dtype=torch.float64))"
            ]
          },
          "metadata": {},
          "execution_count": 134
        }
      ],
      "source": [
        "#numpy array to tensor\n",
        "import torch\n",
        "import numpy as np\n",
        "array=np.arange(1.0,9.0)\n",
        "tensor = torch.from_numpy(array) #warning: when converting from numpy pytorch reflects numpy's default float64 dtype and not 32\n",
        "array,tensor"
      ]
    },
    {
      "cell_type": "code",
      "execution_count": null,
      "metadata": {
        "colab": {
          "base_uri": "https://localhost:8080/"
        },
        "id": "RnKrFFb9UneO",
        "outputId": "6fad2b8b-dbba-4707-cb10-a408b3f7b672"
      },
      "outputs": [
        {
          "output_type": "execute_result",
          "data": {
            "text/plain": [
              "dtype('float64')"
            ]
          },
          "metadata": {},
          "execution_count": 135
        }
      ],
      "source": [
        "array.dtype #numpy default is float64"
      ]
    },
    {
      "cell_type": "code",
      "execution_count": null,
      "metadata": {
        "colab": {
          "base_uri": "https://localhost:8080/"
        },
        "id": "7zk-3i9DU1nJ",
        "outputId": "875a3ff1-82a7-4f70-ee80-a6664957fc73"
      },
      "outputs": [
        {
          "output_type": "execute_result",
          "data": {
            "text/plain": [
              "(array([2., 3., 4., 5., 6., 7., 8., 9.]),\n",
              " tensor([1., 2., 3., 4., 5., 6., 7., 8.], dtype=torch.float64))"
            ]
          },
          "metadata": {},
          "execution_count": 136
        }
      ],
      "source": [
        "array= array+1\n",
        "array,tensor  #changing array doesnt change tensor"
      ]
    },
    {
      "cell_type": "code",
      "execution_count": null,
      "metadata": {
        "colab": {
          "base_uri": "https://localhost:8080/"
        },
        "id": "iumvwT8SVsDk",
        "outputId": "da8760f9-d3f9-4bac-8901-a1e5277d473f"
      },
      "outputs": [
        {
          "output_type": "execute_result",
          "data": {
            "text/plain": [
              "(array([1., 1., 1., 1., 1., 1., 1., 1.], dtype=float32),\n",
              " tensor([1., 1., 1., 1., 1., 1., 1., 1.]),\n",
              " torch.float32)"
            ]
          },
          "metadata": {},
          "execution_count": 139
        }
      ],
      "source": [
        "# tensor to numpy\n",
        "tensor= torch.ones(8)\n",
        "tensor\n",
        "numpy_tensor=tensor.numpy()\n",
        "numpy_tensor,tensor,tensor.dtype"
      ]
    },
    {
      "cell_type": "code",
      "source": [
        "#change the tensor what happens to numpy tensor\n",
        "tensor= tensor+1\n",
        "tensor,numpy_tensor #remians the same"
      ],
      "metadata": {
        "colab": {
          "base_uri": "https://localhost:8080/"
        },
        "id": "W8mpyS5TbW_E",
        "outputId": "5c8c0267-8f29-423c-d52f-d3323179b44a"
      },
      "execution_count": null,
      "outputs": [
        {
          "output_type": "execute_result",
          "data": {
            "text/plain": [
              "(tensor([2., 2., 2., 2., 2., 2., 2., 2.]),\n",
              " array([1., 1., 1., 1., 1., 1., 1., 1.], dtype=float32))"
            ]
          },
          "metadata": {},
          "execution_count": 140
        }
      ]
    },
    {
      "cell_type": "markdown",
      "metadata": {
        "id": "KFyiJxRXYTKN"
      },
      "source": [
        "## Reproducability (trying to take random out of random)\n",
        "\n",
        "In short how neural net learns:\n",
        "\n",
        "* `start with random numbers -> tensor operations -> update random numbers try to make them fit data -> again -> again..`\n",
        "* to reduce the randomness pytorch comes with  the concept of random seed, essentially it flavours the `randomness`\n",
        "\n",
        "\n"
      ]
    },
    {
      "cell_type": "code",
      "execution_count": null,
      "metadata": {
        "colab": {
          "base_uri": "https://localhost:8080/"
        },
        "id": "eNrxbNJvU0SS",
        "outputId": "f7750ab5-f6b5-41d9-e5aa-459a6e1a9964"
      },
      "outputs": [
        {
          "output_type": "stream",
          "name": "stdout",
          "text": [
            "tensor([[0.7509, 0.9190, 0.7429, 0.2238],\n",
            "        [0.6368, 0.4699, 0.0752, 0.9304],\n",
            "        [0.3474, 0.9667, 0.8198, 0.6124]])\n",
            "tensor([[0.0990, 0.9125, 0.0862, 0.4016],\n",
            "        [0.7903, 0.2594, 0.0330, 0.0619],\n",
            "        [0.4611, 0.9538, 0.6729, 0.2139]])\n",
            "tensor([[False, False, False, False],\n",
            "        [False, False, False, False],\n",
            "        [False, False, False, False]])\n"
          ]
        }
      ],
      "source": [
        "import torch\n",
        "\n",
        "random_tensor_A =  torch.rand(3,4)\n",
        "random_tensor_B= torch.rand(3,4)\n",
        "\n",
        "print(random_tensor_A)\n",
        "print(random_tensor_B)\n",
        "print(random_tensor_A == random_tensor_B)"
      ]
    },
    {
      "cell_type": "code",
      "execution_count": null,
      "metadata": {
        "colab": {
          "base_uri": "https://localhost:8080/"
        },
        "id": "aLGhoReTZkn8",
        "outputId": "75f04ff6-9ea5-4460-8dfc-c8c544ebd729"
      },
      "outputs": [
        {
          "name": "stdout",
          "output_type": "stream",
          "text": [
            "tensor([[0.8823, 0.9150, 0.3829, 0.9593],\n",
            "        [0.3904, 0.6009, 0.2566, 0.7936],\n",
            "        [0.9408, 0.1332, 0.9346, 0.5936]])\n",
            "tensor([[0.8823, 0.9150, 0.3829, 0.9593],\n",
            "        [0.3904, 0.6009, 0.2566, 0.7936],\n",
            "        [0.9408, 0.1332, 0.9346, 0.5936]])\n",
            "tensor([[True, True, True, True],\n",
            "        [True, True, True, True],\n",
            "        [True, True, True, True]])\n"
          ]
        }
      ],
      "source": [
        " # let's make some random but reproducible\n",
        "import torch\n",
        " # set the random seed\n",
        "RANDOM_SEED=42\n",
        "torch.manual_seed(RANDOM_SEED)\n",
        "random_tensor_C =  torch.rand(3,4)\n",
        "torch.manual_seed(RANDOM_SEED)\n",
        "random_tensor_D =  torch.rand(3,4)\n",
        "print(random_tensor_C)\n",
        "print(random_tensor_D)\n",
        "print(random_tensor_C == random_tensor_D)"
      ]
    },
    {
      "cell_type": "markdown",
      "metadata": {
        "id": "2PODfzNIhs6z"
      },
      "source": [
        "### reproducability\n",
        "* https://pytorch.org/docs/stable/notes/randomness.html\n",
        "* https://en.wikipedia.org/wiki/Random_seed\n"
      ]
    },
    {
      "cell_type": "code",
      "execution_count": null,
      "metadata": {
        "id": "kV6f0IlWh77g"
      },
      "outputs": [],
      "source": []
    },
    {
      "cell_type": "markdown",
      "metadata": {
        "id": "LjVobt6aDT74"
      },
      "source": [
        "## Running tensors and pytorch objects\n",
        "\n",
        "1. GPU - Thanks to cuda + NVIDIA hardware + pytorch working behind\n",
        "2. Use own gpu\n",
        "3. Use cloud computing services-  AWS, Azure, GCP allows us to use computing resources on cloud"
      ]
    },
    {
      "cell_type": "markdown",
      "metadata": {
        "id": "mtSyk5z-FZL7"
      },
      "source": [
        "### since pytorch is capable of computing on gpu or cpu it's a best practice to set up device agnostic code\n",
        "`Example : Run of GPU if available else CPU`"
      ]
    },
    {
      "cell_type": "code",
      "execution_count": null,
      "metadata": {
        "colab": {
          "base_uri": "https://localhost:8080/"
        },
        "id": "yXnAYQ3aDdfK",
        "outputId": "47c5361d-126b-42a5-a2a6-65612467500b"
      },
      "outputs": [
        {
          "output_type": "stream",
          "name": "stdout",
          "text": [
            "/bin/bash: line 1: nvidia-smi: command not found\n"
          ]
        }
      ],
      "source": [
        "!nvidia-smi"
      ]
    },
    {
      "cell_type": "code",
      "execution_count": null,
      "metadata": {
        "colab": {
          "base_uri": "https://localhost:8080/"
        },
        "id": "1Cu53GmwESQH",
        "outputId": "690ae996-031c-4f3e-c005-26e39d211f11"
      },
      "outputs": [
        {
          "output_type": "execute_result",
          "data": {
            "text/plain": [
              "False"
            ]
          },
          "metadata": {},
          "execution_count": 143
        }
      ],
      "source": [
        "###  Check gpu access with pytorch\n",
        "import torch\n",
        "torch.cuda.is_available()"
      ]
    },
    {
      "cell_type": "code",
      "execution_count": null,
      "metadata": {
        "colab": {
          "base_uri": "https://localhost:8080/",
          "height": 35
        },
        "id": "MVi1xm00Ed9b",
        "outputId": "73dc75f4-94f6-4ec3-876d-ed809c39545e"
      },
      "outputs": [
        {
          "output_type": "execute_result",
          "data": {
            "text/plain": [
              "'cpu'"
            ],
            "application/vnd.google.colaboratory.intrinsic+json": {
              "type": "string"
            }
          },
          "metadata": {},
          "execution_count": 144
        }
      ],
      "source": [
        "# setup device agnostic code\n",
        "device=\"cuda\" if torch.cuda.is_available() else \"cpu\"\n",
        "device"
      ]
    },
    {
      "cell_type": "code",
      "execution_count": null,
      "metadata": {
        "colab": {
          "base_uri": "https://localhost:8080/"
        },
        "id": "yICqmOr5Evxj",
        "outputId": "70af3890-7e4a-46b7-d627-fa3fe8640573"
      },
      "outputs": [
        {
          "output_type": "execute_result",
          "data": {
            "text/plain": [
              "0"
            ]
          },
          "metadata": {},
          "execution_count": 145
        }
      ],
      "source": [
        "# count number of devices\n",
        "torch.cuda.device_count()"
      ]
    },
    {
      "cell_type": "markdown",
      "metadata": {
        "id": "NSxF-uAwOJWQ"
      },
      "source": [
        "### Putting tensors and models on gpu and cpu"
      ]
    },
    {
      "cell_type": "code",
      "execution_count": null,
      "metadata": {
        "colab": {
          "base_uri": "https://localhost:8080/"
        },
        "id": "BEJZ100IE-j4",
        "outputId": "d44baefd-0262-4597-a6b7-295b4ce4b44a"
      },
      "outputs": [
        {
          "output_type": "stream",
          "name": "stdout",
          "text": [
            "tensor([1, 2, 3]) cpu\n"
          ]
        }
      ],
      "source": [
        "#create tensor\n",
        "tensor= torch.tensor([1,2,3])\n",
        "#its default on cpu\n",
        "print(tensor,tensor.device)"
      ]
    },
    {
      "cell_type": "code",
      "execution_count": null,
      "metadata": {
        "colab": {
          "base_uri": "https://localhost:8080/"
        },
        "id": "pbzSCKyYOSsM",
        "outputId": "08248a53-789d-4b94-d1b4-afa653b9380e"
      },
      "outputs": [
        {
          "output_type": "execute_result",
          "data": {
            "text/plain": [
              "tensor([1, 2, 3])"
            ]
          },
          "metadata": {},
          "execution_count": 147
        }
      ],
      "source": [
        "#move it to gpu if required\n",
        "tensor_gpu =  tensor.to(device)\n",
        "tensor_gpu"
      ]
    },
    {
      "cell_type": "code",
      "execution_count": null,
      "metadata": {
        "id": "NlVIFDeiOlO9"
      },
      "outputs": [],
      "source": [
        " ### 4. moving tensors back to the cpu , if tensor on gpu we cant go Numpy\n",
        "#  tensor_gpu.numpy()"
      ]
    },
    {
      "cell_type": "code",
      "execution_count": null,
      "metadata": {
        "colab": {
          "base_uri": "https://localhost:8080/"
        },
        "id": "4O-LrsAJPJWS",
        "outputId": "a1ef4437-dd3d-4718-9891-ae8a097d9507"
      },
      "outputs": [
        {
          "output_type": "execute_result",
          "data": {
            "text/plain": [
              "tensor([1, 2, 3])"
            ]
          },
          "metadata": {},
          "execution_count": 148
        }
      ],
      "source": [
        "tensor_cpu=tensor_gpu.cpu()\n",
        "tensor_cpu"
      ]
    },
    {
      "cell_type": "code",
      "execution_count": null,
      "metadata": {
        "colab": {
          "base_uri": "https://localhost:8080/"
        },
        "id": "iJHUWnZiPQec",
        "outputId": "5eb94334-89fa-4e03-a657-26bc190af6a5"
      },
      "outputs": [
        {
          "output_type": "execute_result",
          "data": {
            "text/plain": [
              "array([1, 2, 3])"
            ]
          },
          "metadata": {},
          "execution_count": 149
        }
      ],
      "source": [
        "numpy1= tensor_cpu.numpy()\n",
        "numpy1"
      ]
    },
    {
      "cell_type": "markdown",
      "metadata": {
        "id": "iW13vEeMRLtl"
      },
      "source": [
        "###Exercises"
      ]
    },
    {
      "cell_type": "code",
      "execution_count": null,
      "metadata": {
        "colab": {
          "base_uri": "https://localhost:8080/"
        },
        "id": "hDP4AmnZPWjg",
        "outputId": "731d3300-345c-4631-f827-1fe930a2a3ef"
      },
      "outputs": [
        {
          "data": {
            "text/plain": [
              "tensor([[0.8694, 0.5677, 0.7411, 0.4294, 0.8854, 0.5739, 0.2666],\n",
              "        [0.6274, 0.2696, 0.4414, 0.2969, 0.8317, 0.1053, 0.2695],\n",
              "        [0.3588, 0.1994, 0.5472, 0.0062, 0.9516, 0.0753, 0.8860],\n",
              "        [0.5832, 0.3376, 0.8090, 0.5779, 0.9040, 0.5547, 0.3423],\n",
              "        [0.6343, 0.3644, 0.7104, 0.9464, 0.7890, 0.2814, 0.7886],\n",
              "        [0.5895, 0.7539, 0.1952, 0.0050, 0.3068, 0.1165, 0.9103],\n",
              "        [0.6440, 0.7071, 0.6581, 0.4913, 0.8913, 0.1447, 0.5315]])"
            ]
          },
          "execution_count": 291,
          "metadata": {},
          "output_type": "execute_result"
        }
      ],
      "source": [
        "tensor= torch.rand(7,7)\n",
        "tensor"
      ]
    },
    {
      "cell_type": "code",
      "execution_count": null,
      "metadata": {
        "id": "9DnSrYztSG3D"
      },
      "outputs": [],
      "source": [
        "tensor2=torch.rand(1,7)"
      ]
    },
    {
      "cell_type": "code",
      "execution_count": null,
      "metadata": {
        "colab": {
          "base_uri": "https://localhost:8080/"
        },
        "id": "Axu1T5sHSMuU",
        "outputId": "c6f76e15-e6b8-489a-ca8a-7f4950925c69"
      },
      "outputs": [
        {
          "data": {
            "text/plain": [
              "(tensor([[1.9625],\n",
              "         [1.0950],\n",
              "         [0.9967],\n",
              "         [1.8910],\n",
              "         [1.9205],\n",
              "         [1.0674],\n",
              "         [1.6949]]),\n",
              " torch.Size([7, 1]))"
            ]
          },
          "execution_count": 293,
          "metadata": {},
          "output_type": "execute_result"
        }
      ],
      "source": [
        "prod= torch.mm(tensor,tensor2.T)\n",
        "prod, prod.shape"
      ]
    },
    {
      "cell_type": "code",
      "execution_count": null,
      "metadata": {
        "colab": {
          "base_uri": "https://localhost:8080/"
        },
        "id": "BtztIBnbSWTK",
        "outputId": "3f133c66-b4e4-4f7c-cb94-147abc50555b"
      },
      "outputs": [
        {
          "data": {
            "text/plain": [
              "(tensor([[0.8823, 0.9150, 0.3829, 0.9593, 0.3904, 0.6009, 0.2566],\n",
              "         [0.7936, 0.9408, 0.1332, 0.9346, 0.5936, 0.8694, 0.5677],\n",
              "         [0.7411, 0.4294, 0.8854, 0.5739, 0.2666, 0.6274, 0.2696],\n",
              "         [0.4414, 0.2969, 0.8317, 0.1053, 0.2695, 0.3588, 0.1994],\n",
              "         [0.5472, 0.0062, 0.9516, 0.0753, 0.8860, 0.5832, 0.3376],\n",
              "         [0.8090, 0.5779, 0.9040, 0.5547, 0.3423, 0.6343, 0.3644],\n",
              "         [0.7104, 0.9464, 0.7890, 0.2814, 0.7886, 0.5895, 0.7539]]),\n",
              " tensor([[0.8823, 0.9150, 0.3829, 0.9593, 0.3904, 0.6009, 0.2566]]))"
            ]
          },
          "execution_count": 294,
          "metadata": {},
          "output_type": "execute_result"
        }
      ],
      "source": [
        "RANDOMSEED=42\n",
        "torch.manual_seed(RANDOMSEED)\n",
        "tensor3=torch.rand(7,7)\n",
        "torch.manual_seed(RANDOMSEED)\n",
        "tensor4=torch.rand(1,7)\n",
        "tensor3,tensor4"
      ]
    },
    {
      "cell_type": "code",
      "execution_count": null,
      "metadata": {
        "colab": {
          "base_uri": "https://localhost:8080/"
        },
        "id": "excaGujvS0gZ",
        "outputId": "83a78126-c2d4-4dbc-e6f8-eeec67ad1be8"
      },
      "outputs": [
        {
          "data": {
            "text/plain": [
              "(tensor([[3.2618],\n",
              "         [3.4084],\n",
              "         [2.4866],\n",
              "         [1.4525],\n",
              "         [1.7079],\n",
              "         [2.7291],\n",
              "         [2.9204]]),\n",
              " torch.Size([7, 1]))"
            ]
          },
          "execution_count": 295,
          "metadata": {},
          "output_type": "execute_result"
        }
      ],
      "source": [
        "prod2=tensor3.matmul(tensor4.T)\n",
        "prod2,prod2.shape"
      ]
    },
    {
      "cell_type": "code",
      "execution_count": null,
      "metadata": {
        "colab": {
          "base_uri": "https://localhost:8080/",
          "height": 349
        },
        "id": "6tzLeZlZS9Fz",
        "outputId": "04362d17-82af-43a8-e0be-f27ae1a69cbb"
      },
      "outputs": [
        {
          "ename": "RuntimeError",
          "evalue": "Found no NVIDIA driver on your system. Please check that you have an NVIDIA GPU and installed a driver from http://www.nvidia.com/Download/index.aspx",
          "output_type": "error",
          "traceback": [
            "\u001b[0;31m---------------------------------------------------------------------------\u001b[0m",
            "\u001b[0;31mRuntimeError\u001b[0m                              Traceback (most recent call last)",
            "\u001b[0;32m<ipython-input-296-ce742dea118a>\u001b[0m in \u001b[0;36m<cell line: 0>\u001b[0;34m()\u001b[0m\n\u001b[1;32m      1\u001b[0m \u001b[0mRANDOM_SEED\u001b[0m\u001b[0;34m=\u001b[0m\u001b[0;36m1234\u001b[0m\u001b[0;34m\u001b[0m\u001b[0;34m\u001b[0m\u001b[0m\n\u001b[1;32m      2\u001b[0m \u001b[0mtorch\u001b[0m\u001b[0;34m.\u001b[0m\u001b[0mmanual_seed\u001b[0m\u001b[0;34m(\u001b[0m\u001b[0mRANDOM_SEED\u001b[0m\u001b[0;34m)\u001b[0m\u001b[0;34m\u001b[0m\u001b[0;34m\u001b[0m\u001b[0m\n\u001b[0;32m----> 3\u001b[0;31m \u001b[0mtensor5\u001b[0m\u001b[0;34m=\u001b[0m\u001b[0mtorch\u001b[0m\u001b[0;34m.\u001b[0m\u001b[0mrand\u001b[0m\u001b[0;34m(\u001b[0m\u001b[0;36m7\u001b[0m\u001b[0;34m,\u001b[0m\u001b[0;36m7\u001b[0m\u001b[0;34m)\u001b[0m\u001b[0;34m.\u001b[0m\u001b[0mcuda\u001b[0m\u001b[0;34m(\u001b[0m\u001b[0;34m)\u001b[0m\u001b[0;34m\u001b[0m\u001b[0;34m\u001b[0m\u001b[0m\n\u001b[0m\u001b[1;32m      4\u001b[0m \u001b[0mtorch\u001b[0m\u001b[0;34m.\u001b[0m\u001b[0mmanual_seed\u001b[0m\u001b[0;34m(\u001b[0m\u001b[0mRANDOM_SEED\u001b[0m\u001b[0;34m)\u001b[0m\u001b[0;34m\u001b[0m\u001b[0;34m\u001b[0m\u001b[0m\n\u001b[1;32m      5\u001b[0m \u001b[0mtensor6\u001b[0m\u001b[0;34m=\u001b[0m\u001b[0mtorch\u001b[0m\u001b[0;34m.\u001b[0m\u001b[0mrand\u001b[0m\u001b[0;34m(\u001b[0m\u001b[0;36m1\u001b[0m\u001b[0;34m,\u001b[0m\u001b[0;36m7\u001b[0m\u001b[0;34m)\u001b[0m\u001b[0;34m.\u001b[0m\u001b[0mcuda\u001b[0m\u001b[0;34m(\u001b[0m\u001b[0;34m)\u001b[0m\u001b[0;34m\u001b[0m\u001b[0;34m\u001b[0m\u001b[0m\n",
            "\u001b[0;32m/usr/local/lib/python3.11/dist-packages/torch/cuda/__init__.py\u001b[0m in \u001b[0;36m_lazy_init\u001b[0;34m()\u001b[0m\n\u001b[1;32m    317\u001b[0m         \u001b[0;32mif\u001b[0m \u001b[0;34m\"CUDA_MODULE_LOADING\"\u001b[0m \u001b[0;32mnot\u001b[0m \u001b[0;32min\u001b[0m \u001b[0mos\u001b[0m\u001b[0;34m.\u001b[0m\u001b[0menviron\u001b[0m\u001b[0;34m:\u001b[0m\u001b[0;34m\u001b[0m\u001b[0;34m\u001b[0m\u001b[0m\n\u001b[1;32m    318\u001b[0m             \u001b[0mos\u001b[0m\u001b[0;34m.\u001b[0m\u001b[0menviron\u001b[0m\u001b[0;34m[\u001b[0m\u001b[0;34m\"CUDA_MODULE_LOADING\"\u001b[0m\u001b[0;34m]\u001b[0m \u001b[0;34m=\u001b[0m \u001b[0;34m\"LAZY\"\u001b[0m\u001b[0;34m\u001b[0m\u001b[0;34m\u001b[0m\u001b[0m\n\u001b[0;32m--> 319\u001b[0;31m         \u001b[0mtorch\u001b[0m\u001b[0;34m.\u001b[0m\u001b[0m_C\u001b[0m\u001b[0;34m.\u001b[0m\u001b[0m_cuda_init\u001b[0m\u001b[0;34m(\u001b[0m\u001b[0;34m)\u001b[0m\u001b[0;34m\u001b[0m\u001b[0;34m\u001b[0m\u001b[0m\n\u001b[0m\u001b[1;32m    320\u001b[0m         \u001b[0;31m# Some of the queued calls may reentrantly call _lazy_init();\u001b[0m\u001b[0;34m\u001b[0m\u001b[0;34m\u001b[0m\u001b[0m\n\u001b[1;32m    321\u001b[0m         \u001b[0;31m# we need to just return without initializing in that case.\u001b[0m\u001b[0;34m\u001b[0m\u001b[0;34m\u001b[0m\u001b[0m\n",
            "\u001b[0;31mRuntimeError\u001b[0m: Found no NVIDIA driver on your system. Please check that you have an NVIDIA GPU and installed a driver from http://www.nvidia.com/Download/index.aspx"
          ]
        }
      ],
      "source": [
        "RANDOM_SEED=1234\n",
        "torch.manual_seed(RANDOM_SEED)\n",
        "tensor5=torch.rand(7,7).cuda()\n",
        "torch.manual_seed(RANDOM_SEED)\n",
        "tensor6=torch.rand(1,7).cuda()\n",
        "tensor5,tensor6"
      ]
    },
    {
      "cell_type": "code",
      "execution_count": null,
      "metadata": {
        "id": "pmETI-scXycR"
      },
      "outputs": [],
      "source": [
        "RANDOM_SEED=1234\n",
        "torch.manual_seed(RANDOM_SEED)\n",
        "tensor7=torch.rand(2,3).cuda()\n",
        "torch.manual_seed(RANDOM_SEED)\n",
        "tensor8=torch.rand(2,3).cuda()\n",
        "tensor7,tensor8"
      ]
    },
    {
      "cell_type": "code",
      "execution_count": null,
      "metadata": {
        "id": "cTIly9__Yyfk"
      },
      "outputs": [],
      "source": [
        "tensor7.device"
      ]
    },
    {
      "cell_type": "code",
      "execution_count": null,
      "metadata": {
        "id": "rseuv9YIY1Lu"
      },
      "outputs": [],
      "source": [
        "prod3=tensor7.matmul(tensor8.T)"
      ]
    },
    {
      "cell_type": "code",
      "execution_count": null,
      "metadata": {
        "id": "IvWep15iY6Fr"
      },
      "outputs": [],
      "source": [
        "prod3,prod3.device"
      ]
    },
    {
      "cell_type": "code",
      "execution_count": null,
      "metadata": {
        "id": "15iH6F25Y72x"
      },
      "outputs": [],
      "source": [
        "torch.max(prod3)"
      ]
    },
    {
      "cell_type": "code",
      "execution_count": null,
      "metadata": {
        "id": "biSDJyf6ZAnj"
      },
      "outputs": [],
      "source": [
        "torch.min(prod3)"
      ]
    },
    {
      "cell_type": "code",
      "execution_count": null,
      "metadata": {
        "id": "X3OYSZ7LZDPu"
      },
      "outputs": [],
      "source": [
        "torch.argmax(prod3)"
      ]
    },
    {
      "cell_type": "code",
      "execution_count": null,
      "metadata": {
        "id": "nvNL05heZFCX"
      },
      "outputs": [],
      "source": [
        "torch.argmin(prod3)"
      ]
    },
    {
      "cell_type": "code",
      "execution_count": null,
      "metadata": {
        "id": "lt-6aQDWZQcu"
      },
      "outputs": [],
      "source": [
        "tensor9=torch.rand(1,1,1,10)\n",
        "tensor9"
      ]
    },
    {
      "cell_type": "code",
      "execution_count": null,
      "metadata": {
        "id": "ltOhcSRnaBbb"
      },
      "outputs": [],
      "source": [
        "tensor10=tensor9.squeeze()\n",
        "tensor10"
      ]
    },
    {
      "cell_type": "code",
      "execution_count": null,
      "metadata": {
        "id": "YPICLsI6aD6w"
      },
      "outputs": [],
      "source": []
    }
  ],
  "metadata": {
    "colab": {
      "gpuType": "T4",
      "provenance": []
    },
    "kernelspec": {
      "display_name": "Python 3",
      "name": "python3"
    },
    "language_info": {
      "name": "python"
    }
  },
  "nbformat": 4,
  "nbformat_minor": 0
}